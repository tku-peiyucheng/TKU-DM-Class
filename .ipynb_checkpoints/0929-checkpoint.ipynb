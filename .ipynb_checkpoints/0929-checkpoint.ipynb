{
 "cells": [
  {
   "cell_type": "code",
   "execution_count": 1,
   "id": "20f4b5e9",
   "metadata": {},
   "outputs": [
    {
     "name": "stdout",
     "output_type": "stream",
     "text": [
      " 磁碟區 C 中的磁碟沒有標籤。\n",
      " 磁碟區序號:  4A1C-CA0E\n",
      "\n",
      " C:\\Users\\PeiYu\\dm\\TKU-DM-Class 的目錄\n",
      "\n",
      "2022/09/29  上午 10:20    <DIR>          .\n",
      "2022/09/22  上午 11:05    <DIR>          ..\n",
      "2022/09/29  上午 10:20    <DIR>          .ipynb_checkpoints\n",
      "2022/09/22  上午 11:40             9,194 0922.ipynb\n",
      "2022/09/29  上午 10:20                72 0929.ipynb\n",
      "2022/09/22  上午 11:05               908 Hello.ipynb\n",
      "2022/09/29  上午 10:00            12,356 Numpy.ipynb\n",
      "2022/09/22  上午 11:05                14 README.md\n",
      "2022/09/22  上午 11:37           152,257 scores (1).csv\n",
      "2022/09/22  上午 11:05               409 scores.csv\n",
      "2022/09/22  上午 11:05             6,271 Untitled.ipynb\n",
      "               8 個檔案         181,481 位元組\n",
      "               3 個目錄  717,198,389,248 位元組可用\n"
     ]
    }
   ],
   "source": [
    "ls"
   ]
  },
  {
   "cell_type": "code",
   "execution_count": 2,
   "id": "ae5d37e9",
   "metadata": {},
   "outputs": [
    {
     "name": "stdout",
     "output_type": "stream",
     "text": [
      "Hello!\n"
     ]
    }
   ],
   "source": [
    "run Hello.ipynb"
   ]
  },
  {
   "cell_type": "code",
   "execution_count": 5,
   "id": "2d0dae60",
   "metadata": {},
   "outputs": [
    {
     "name": "stdout",
     "output_type": "stream",
     "text": [
      "Overwriting hi.py\n"
     ]
    }
   ],
   "source": [
    "%%writefile hi.py\n",
    "print(\"Hi 0929!\")"
   ]
  },
  {
   "cell_type": "code",
   "execution_count": 6,
   "id": "06c299f6",
   "metadata": {},
   "outputs": [
    {
     "name": "stdout",
     "output_type": "stream",
     "text": [
      "Hi 0929!\n"
     ]
    }
   ],
   "source": [
    "run hi.py"
   ]
  },
  {
   "cell_type": "code",
   "execution_count": 7,
   "id": "eb006ab1",
   "metadata": {},
   "outputs": [],
   "source": [
    "a = 1"
   ]
  },
  {
   "cell_type": "code",
   "execution_count": 8,
   "id": "3b6c8ea6",
   "metadata": {},
   "outputs": [],
   "source": [
    "b = 2"
   ]
  },
  {
   "cell_type": "code",
   "execution_count": 9,
   "id": "8d031f0d",
   "metadata": {},
   "outputs": [
    {
     "name": "stdout",
     "output_type": "stream",
     "text": [
      "Variable   Type    Data/Info\n",
      "----------------------------\n",
      "a          int     1\n",
      "b          int     2\n"
     ]
    }
   ],
   "source": [
    "whos"
   ]
  },
  {
   "cell_type": "code",
   "execution_count": 10,
   "id": "082afefc",
   "metadata": {},
   "outputs": [
    {
     "name": "stdout",
     "output_type": "stream",
     "text": [
      "Requirement already satisfied: Numpy in c:\\users\\peiyu\\anaconda3\\envs\\peiyu_base\\lib\\site-packages (1.23.3)\n",
      "Note: you may need to restart the kernel to use updated packages.\n"
     ]
    }
   ],
   "source": [
    "pip install Numpy"
   ]
  },
  {
   "cell_type": "code",
   "execution_count": null,
   "id": "4b4d508c",
   "metadata": {},
   "outputs": [],
   "source": [
    "s"
   ]
  }
 ],
 "metadata": {
  "kernelspec": {
   "display_name": "Python 3 (ipykernel)",
   "language": "python",
   "name": "python3"
  },
  "language_info": {
   "codemirror_mode": {
    "name": "ipython",
    "version": 3
   },
   "file_extension": ".py",
   "mimetype": "text/x-python",
   "name": "python",
   "nbconvert_exporter": "python",
   "pygments_lexer": "ipython3",
   "version": "3.9.12"
  }
 },
 "nbformat": 4,
 "nbformat_minor": 5
}
