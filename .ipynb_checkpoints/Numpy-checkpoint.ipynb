{
 "cells": [
  {
   "cell_type": "code",
   "execution_count": 1,
   "id": "21644fc0",
   "metadata": {},
   "outputs": [
    {
     "name": "stdout",
     "output_type": "stream",
     "text": [
      "Requirement already satisfied: Numpy in c:\\users\\peiyu\\anaconda3\\envs\\peiyu_base\\lib\\site-packages (1.23.3)\n",
      "Note: you may need to restart the kernel to use updated packages.\n"
     ]
    }
   ],
   "source": [
    "pip install Numpy"
   ]
  },
  {
   "cell_type": "markdown",
   "id": "57946514",
   "metadata": {},
   "source": [
    "# 安裝並import numpy"
   ]
  },
  {
   "cell_type": "code",
   "execution_count": 2,
   "id": "34e77b9b",
   "metadata": {},
   "outputs": [],
   "source": [
    "import numpy as np"
   ]
  },
  {
   "cell_type": "markdown",
   "id": "776e2478",
   "metadata": {},
   "source": [
    "# 建立陣列"
   ]
  },
  {
   "cell_type": "code",
   "execution_count": 9,
   "id": "bc33af26",
   "metadata": {},
   "outputs": [
    {
     "name": "stdout",
     "output_type": "stream",
     "text": [
      "[1 2 3 4]\n",
      "[5 6 7 8]\n",
      "<class 'numpy.ndarray'> <class 'numpy.ndarray'>\n"
     ]
    }
   ],
   "source": [
    "np1 = np.array([1,2,3,4])\n",
    "np2 = np.array((5,6,7,8))\n",
    "print(np1)\n",
    "print(np2)\n",
    "print(type(np1), type(np2))"
   ]
  },
  {
   "cell_type": "markdown",
   "id": "64f6ec39",
   "metadata": {},
   "source": [
    "## np.arange"
   ]
  },
  {
   "cell_type": "code",
   "execution_count": 8,
   "id": "d2b3dc2d",
   "metadata": {},
   "outputs": [
    {
     "name": "stdout",
     "output_type": "stream",
     "text": [
      "[ 0  2  4  6  8 10 12 14 16 18 20 22 24 26 28 30]\n"
     ]
    }
   ],
   "source": [
    "np3 = np.arange(0, 31, 2)\n",
    "print(np3)"
   ]
  },
  {
   "cell_type": "markdown",
   "id": "b17042c3",
   "metadata": {},
   "source": [
    "## np.linspace"
   ]
  },
  {
   "cell_type": "code",
   "execution_count": 22,
   "id": "13febd2d",
   "metadata": {},
   "outputs": [
    {
     "name": "stdout",
     "output_type": "stream",
     "text": [
      "[ 1.  8. 15.]\n"
     ]
    }
   ],
   "source": [
    "np4 = np.linspace(1, 15, 3)\n",
    "print(np4)"
   ]
  },
  {
   "cell_type": "markdown",
   "id": "f5f5e8bc",
   "metadata": {},
   "source": [
    "## np.zeros"
   ]
  },
  {
   "cell_type": "code",
   "execution_count": 11,
   "id": "5bc70099",
   "metadata": {},
   "outputs": [
    {
     "name": "stdout",
     "output_type": "stream",
     "text": [
      "[0. 0. 0. 0. 0.]\n"
     ]
    }
   ],
   "source": [
    "np5 = np.zeros((5,))\n",
    "print(np5)"
   ]
  },
  {
   "cell_type": "markdown",
   "id": "314be28b",
   "metadata": {},
   "source": [
    "## np.ones"
   ]
  },
  {
   "cell_type": "code",
   "execution_count": 12,
   "id": "9b2efc6a",
   "metadata": {},
   "outputs": [
    {
     "name": "stdout",
     "output_type": "stream",
     "text": [
      "[1. 1. 1. 1. 1.]\n"
     ]
    }
   ],
   "source": [
    "np6 = np.ones((5,))\n",
    "print(np6)"
   ]
  },
  {
   "cell_type": "code",
   "execution_count": 13,
   "id": "aae22ea5",
   "metadata": {},
   "outputs": [
    {
     "name": "stdout",
     "output_type": "stream",
     "text": [
      "[[1. 1.]\n",
      " [1. 1.]\n",
      " [1. 1.]\n",
      " [1. 1.]\n",
      " [1. 1.]]\n"
     ]
    }
   ],
   "source": [
    "np7 = np.ones((5,2))\n",
    "print(np7)"
   ]
  },
  {
   "cell_type": "markdown",
   "id": "30a50da4",
   "metadata": {},
   "source": [
    "## 建立多維陣列"
   ]
  },
  {
   "cell_type": "code",
   "execution_count": 15,
   "id": "e80be685",
   "metadata": {},
   "outputs": [
    {
     "name": "stdout",
     "output_type": "stream",
     "text": [
      "[[ 1  2  3  4  5]\n",
      " [ 6  7  8  9 10]]\n",
      "維度 2\n",
      "形狀 (2, 5)\n",
      "數量 10\n"
     ]
    }
   ],
   "source": [
    "listdata = [[1,2,3,4,5],\n",
    "       [6,7,8,9,10]]\n",
    "np8 = np.array(listdata)\n",
    "print(np8)\n",
    "print('維度', np8.ndim)\n",
    "print('形狀', np8.shape)\n",
    "print('數量', np8.size)"
   ]
  },
  {
   "cell_type": "markdown",
   "id": "47e8ded9",
   "metadata": {},
   "source": [
    "## 改變陣列形狀, .reshape"
   ]
  },
  {
   "cell_type": "code",
   "execution_count": 16,
   "id": "978a9ae5",
   "metadata": {},
   "outputs": [
    {
     "name": "stdout",
     "output_type": "stream",
     "text": [
      "[ 1  2  3  4  5  6  7  8  9 10 11 12 13 14 15 16 17 18 19 20]\n"
     ]
    }
   ],
   "source": [
    "np9 = np.arange(1,21)\n",
    "print(np9)"
   ]
  },
  {
   "cell_type": "code",
   "execution_count": 18,
   "id": "22cab83e",
   "metadata": {},
   "outputs": [
    {
     "name": "stdout",
     "output_type": "stream",
     "text": [
      "[[ 1  2  3  4  5]\n",
      " [ 6  7  8  9 10]\n",
      " [11 12 13 14 15]\n",
      " [16 17 18 19 20]]\n"
     ]
    }
   ],
   "source": [
    "np10 = np9.reshape(4,5)\n",
    "print(np10)"
   ]
  },
  {
   "cell_type": "markdown",
   "id": "596e5495",
   "metadata": {},
   "source": [
    "## 取一維陣列值"
   ]
  },
  {
   "cell_type": "code",
   "execution_count": 24,
   "id": "6bfb6ed2",
   "metadata": {},
   "outputs": [
    {
     "name": "stdout",
     "output_type": "stream",
     "text": [
      "[0 1 2 3 4 5 6 7 8]\n",
      "0\n",
      "8\n",
      "[1 2 3 4 5 6 7]\n",
      "[1 3 5 7]\n",
      "[8 7 6 5 4 3 2]\n",
      "[0 1 2 3 4 5 6 7 8]\n",
      "[0 1 2 3]\n",
      "[4 5 6 7 8]\n"
     ]
    }
   ],
   "source": [
    "np10 = np.arange(0,9)\n",
    "print(np10)\n",
    "print(np10[0])\n",
    "print(np10[8])\n",
    "print(np10[1:8])\n",
    "print(np10[1:8:2])\n",
    "print(np10[8:1:-1])\n",
    "print(np10[:])\n",
    "print(np10[:4])\n",
    "print(np10[4:])"
   ]
  },
  {
   "cell_type": "markdown",
   "id": "cb4ea894",
   "metadata": {},
   "source": [
    "## 取二維陣列值"
   ]
  },
  {
   "cell_type": "code",
   "execution_count": 27,
   "id": "c03e4d48",
   "metadata": {},
   "outputs": [
    {
     "data": {
      "text/plain": [
       "array([[ 1,  2,  3,  4],\n",
       "       [ 5,  6,  7,  8],\n",
       "       [ 9, 10, 11, 12],\n",
       "       [13, 14, 15, 16],\n",
       "       [17, 18, 19, 20]])"
      ]
     },
     "execution_count": 27,
     "metadata": {},
     "output_type": "execute_result"
    }
   ],
   "source": [
    "np11 = np.arange(1, 21).reshape(5, 4)\n",
    "np11"
   ]
  },
  {
   "cell_type": "code",
   "execution_count": 29,
   "id": "99029ecf",
   "metadata": {},
   "outputs": [
    {
     "data": {
      "text/plain": [
       "3"
      ]
     },
     "execution_count": 29,
     "metadata": {},
     "output_type": "execute_result"
    }
   ],
   "source": [
    "np11[0, 2]"
   ]
  },
  {
   "cell_type": "code",
   "execution_count": 30,
   "id": "93f89a80",
   "metadata": {},
   "outputs": [
    {
     "data": {
      "text/plain": [
       "7"
      ]
     },
     "execution_count": 30,
     "metadata": {},
     "output_type": "execute_result"
    }
   ],
   "source": [
    "np11[1, 2]"
   ]
  },
  {
   "cell_type": "code",
   "execution_count": 35,
   "id": "e441f430",
   "metadata": {},
   "outputs": [
    {
     "name": "stdout",
     "output_type": "stream",
     "text": [
      "[ 7 11]\n",
      "[[ 6  7]\n",
      " [10 11]]\n",
      "[[ 1  3]\n",
      " [ 9 11]\n",
      " [17 19]]\n",
      "[ 3  7 11 15 19]\n",
      "[5 6 7 8]\n",
      "[[ 1  2  3  4]\n",
      " [ 5  6  7  8]\n",
      " [ 9 10 11 12]\n",
      " [13 14 15 16]\n",
      " [17 18 19 20]]\n"
     ]
    }
   ],
   "source": [
    "print(np11[1:3, 2])\n",
    "print(np11[1:3, 1:3])\n",
    "print(np11[::2, ::2])\n",
    "print(np11[:, 2])\n",
    "print(np11[1, :])\n",
    "print(np11[:, :])"
   ]
  },
  {
   "cell_type": "markdown",
   "id": "a0ed50ae",
   "metadata": {},
   "source": [
    "## 產生隨機資料:np.ramdom()"
   ]
  },
  {
   "cell_type": "code",
   "execution_count": 36,
   "id": "9a7ebf17",
   "metadata": {},
   "outputs": [
    {
     "name": "stdout",
     "output_type": "stream",
     "text": [
      "1.產生2x3 0~1之間的隨機浮點數\n",
      " [[0.62897111 0.19058838 0.23601151]\n",
      " [0.33754313 0.2890037  0.32272999]]\n",
      "2.產生2x3常態分佈的隨機浮點數\n",
      " [[ 0.5958869   0.89123565 -0.54955677]\n",
      " [-0.11009212  0.81690522 -1.05205995]]\n",
      "3.產生0~4(不含5)隨機整數\n",
      " 1\n",
      "4.產生2~4(不含5)5個隨機整數\n",
      " [4 3 2 3 2]\n",
      "5.產生3個 0~1之間的隨機浮點數\n",
      " [0.82184975 0.78822115 0.39346699] \n",
      " [0.37214688 0.71694702 0.81678658] \n",
      " [0.91456665 0.69773642 0.46206769]\n"
     ]
    }
   ],
   "source": [
    "print('1.產生2x3 0~1之間的隨機浮點數\\n',\n",
    "      np.random.rand(2,3))\n",
    "print('2.產生2x3常態分佈的隨機浮點數\\n',\n",
    "      np.random.randn(2,3))\n",
    "print('3.產生0~4(不含5)隨機整數\\n',\n",
    "      np.random.randint(5))\n",
    "print('4.產生2~4(不含5)5個隨機整數\\n',\n",
    "      np.random.randint(2,5,[5]))\n",
    "print('5.產生3個 0~1之間的隨機浮點數\\n',\n",
    "      np.random.random(3),'\\n',\n",
    "      np.random.random_sample(3),'\\n',\n",
    "      np.random.sample(3))"
   ]
  },
  {
   "cell_type": "markdown",
   "id": "edb5a413",
   "metadata": {},
   "source": [
    "## 增加一個變數，將scores.csv匯入"
   ]
  },
  {
   "cell_type": "code",
   "execution_count": 37,
   "id": "bbc1b1cd",
   "metadata": {},
   "outputs": [],
   "source": [
    "np12 = np.genfromtxt('scores.csv', delimiter=',', skip_header=1)"
   ]
  },
  {
   "cell_type": "markdown",
   "id": "5c2004e6",
   "metadata": {},
   "source": [
    "## 用shape看一下檔案"
   ]
  },
  {
   "cell_type": "code",
   "execution_count": 38,
   "id": "b5f08584",
   "metadata": {},
   "outputs": [
    {
     "name": "stdout",
     "output_type": "stream",
     "text": [
      "(30, 4)\n"
     ]
    }
   ],
   "source": [
    "print(np12.shape)"
   ]
  },
  {
   "cell_type": "markdown",
   "id": "e7382136",
   "metadata": {},
   "source": [
    "## 呼叫NA"
   ]
  },
  {
   "cell_type": "code",
   "execution_count": 39,
   "id": "501faa87",
   "metadata": {},
   "outputs": [
    {
     "data": {
      "text/plain": [
       "array([[ 1., 87., 85., 82.],\n",
       "       [ 2., 92., 87., 90.],\n",
       "       [ 3., 80., 91., 87.],\n",
       "       [ 4., 78., 82., 95.],\n",
       "       [ 5., 88., 89., 90.],\n",
       "       [ 6., 82., 87., 88.],\n",
       "       [ 7., 90., 92., 82.],\n",
       "       [ 8., 87., 80., 90.],\n",
       "       [ 9., 95., 78., 87.],\n",
       "       [10., 90., 88., 95.],\n",
       "       [11., 88., 89., 75.],\n",
       "       [12., 82., 91., 66.],\n",
       "       [13., 90., 82., 87.],\n",
       "       [14., 87., 89., 92.],\n",
       "       [15., 95., 87., 80.],\n",
       "       [16., 90., 92., 78.],\n",
       "       [17., 82., 80., 88.],\n",
       "       [18., 90., 78., 93.],\n",
       "       [19., 67., 87., 95.],\n",
       "       [20., 91., 82., 88.],\n",
       "       [21., 82., 81., 82.],\n",
       "       [22., 79., 87., 90.],\n",
       "       [23., 87., 92., 87.],\n",
       "       [24., 92., 82., 95.],\n",
       "       [25., 80., 90., 78.],\n",
       "       [26., 78., 76., 91.],\n",
       "       [27., 66., 90., 82.],\n",
       "       [28., 89., 77., 89.],\n",
       "       [29., 87., 95., 87.],\n",
       "       [30., 73., 90., 92.]])"
      ]
     },
     "execution_count": 39,
     "metadata": {},
     "output_type": "execute_result"
    }
   ],
   "source": [
    "np12"
   ]
  },
  {
   "cell_type": "code",
   "execution_count": null,
   "id": "8813657e",
   "metadata": {},
   "outputs": [],
   "source": []
  }
 ],
 "metadata": {
  "kernelspec": {
   "display_name": "Python 3 (ipykernel)",
   "language": "python",
   "name": "python3"
  },
  "language_info": {
   "codemirror_mode": {
    "name": "ipython",
    "version": 3
   },
   "file_extension": ".py",
   "mimetype": "text/x-python",
   "name": "python",
   "nbconvert_exporter": "python",
   "pygments_lexer": "ipython3",
   "version": "3.9.12"
  }
 },
 "nbformat": 4,
 "nbformat_minor": 5
}
