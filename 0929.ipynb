{
 "cells": [
  {
   "cell_type": "code",
   "execution_count": 1,
   "id": "54d1c50a",
   "metadata": {},
   "outputs": [
    {
     "name": "stdout",
     "output_type": "stream",
     "text": [
      " 磁碟區 C 中的磁碟沒有標籤。\n",
      " 磁碟區序號:  4A1C-CA0E\n",
      "\n",
      " C:\\Users\\PeiYu\\dm\\TKU-DM-Class 的目錄\n",
      "\n",
      "2022/09/29  上午 10:20    <DIR>          .\n",
      "2022/09/22  上午 11:05    <DIR>          ..\n",
      "2022/09/29  上午 10:20    <DIR>          .ipynb_checkpoints\n",
      "2022/09/22  上午 11:40             9,194 0922.ipynb\n",
      "2022/09/29  上午 10:20                72 0929.ipynb\n",
      "2022/09/22  上午 11:05               908 Hello.ipynb\n",
      "2022/09/29  上午 10:00            12,356 Numpy.ipynb\n",
      "2022/09/22  上午 11:05                14 README.md\n",
      "2022/09/22  上午 11:37           152,257 scores (1).csv\n",
      "2022/09/22  上午 11:05               409 scores.csv\n",
      "2022/09/22  上午 11:05             6,271 Untitled.ipynb\n",
      "               8 個檔案         181,481 位元組\n",
      "               3 個目錄  717,198,389,248 位元組可用\n"
     ]
    }
   ],
   "source": [
    "ls"
   ]
  },
  {
   "cell_type": "code",
   "execution_count": 2,
   "id": "e6f94335",
   "metadata": {},
   "outputs": [
    {
     "name": "stdout",
     "output_type": "stream",
     "text": [
      "Hello!\n"
     ]
    }
   ],
   "source": [
    "run Hello.ipynb"
   ]
  },
  {
   "cell_type": "code",
   "execution_count": 5,
   "id": "67334ac6",
   "metadata": {},
   "outputs": [
    {
     "name": "stdout",
     "output_type": "stream",
     "text": [
      "Overwriting hi.py\n"
     ]
    }
   ],
   "source": [
    "%%writefile hi.py\n",
    "print(\"Hi 0929!\")"
   ]
  },
  {
   "cell_type": "code",
   "execution_count": 6,
   "id": "d917bd60",
   "metadata": {},
   "outputs": [
    {
     "name": "stdout",
     "output_type": "stream",
     "text": [
      "Hi 0929!\n"
     ]
    }
   ],
   "source": [
    "run hi.py"
   ]
  },
  {
   "cell_type": "code",
   "execution_count": 7,
   "id": "5ec4220f",
   "metadata": {},
   "outputs": [],
   "source": [
    "a = 1"
   ]
  },
  {
   "cell_type": "code",
   "execution_count": 8,
   "id": "60c93631",
   "metadata": {},
   "outputs": [],
   "source": [
    "b = 2"
   ]
  },
  {
   "cell_type": "code",
   "execution_count": 9,
   "id": "5f484e2d",
   "metadata": {},
   "outputs": [
    {
     "name": "stdout",
     "output_type": "stream",
     "text": [
      "Variable   Type    Data/Info\n",
      "----------------------------\n",
      "a          int     1\n",
      "b          int     2\n"
     ]
    }
   ],
   "source": [
    "whos"
   ]
  },
  {
   "cell_type": "code",
   "execution_count": 10,
   "id": "f8b83049",
   "metadata": {},
   "outputs": [
    {
     "name": "stdout",
     "output_type": "stream",
     "text": [
      "Requirement already satisfied: Numpy in c:\\users\\peiyu\\anaconda3\\envs\\peiyu_base\\lib\\site-packages (1.23.3)\n",
      "Note: you may need to restart the kernel to use updated packages.\n"
     ]
    }
   ],
   "source": [
    "pip install Numpy"
   ]
  },
  {
   "cell_type": "code",
   "execution_count": 11,
   "id": "952228d3",
   "metadata": {},
   "outputs": [],
   "source": [
    "import numpy as np"
   ]
  },
  {
   "cell_type": "code",
   "execution_count": 12,
   "id": "0aa31e27",
   "metadata": {},
   "outputs": [],
   "source": [
    "np1 = np.array([1,2,3,4])\n",
    "np2 = np.array((5,6,7,8))\n"
   ]
  },
  {
   "cell_type": "code",
   "execution_count": 13,
   "id": "cbfc50b1",
   "metadata": {},
   "outputs": [
    {
     "data": {
      "text/plain": [
       "array([1, 2, 3, 4])"
      ]
     },
     "execution_count": 13,
     "metadata": {},
     "output_type": "execute_result"
    }
   ],
   "source": [
    "np1"
   ]
  },
  {
   "cell_type": "code",
   "execution_count": 14,
   "id": "d988a4d3",
   "metadata": {},
   "outputs": [
    {
     "data": {
      "text/plain": [
       "array([5, 6, 7, 8])"
      ]
     },
     "execution_count": 14,
     "metadata": {},
     "output_type": "execute_result"
    }
   ],
   "source": [
    "np2"
   ]
  },
  {
   "cell_type": "code",
   "execution_count": 15,
   "id": "0b93a72a",
   "metadata": {},
   "outputs": [
    {
     "name": "stdout",
     "output_type": "stream",
     "text": [
      "[1 2 3 4]\n",
      "[5 6 7 8]\n",
      "<class 'numpy.ndarray'> <class 'numpy.ndarray'>\n"
     ]
    }
   ],
   "source": [
    "print(np1)\n",
    "print(np2)\n",
    "print(type(np1), type(np2))"
   ]
  },
  {
   "cell_type": "code",
   "execution_count": 16,
   "id": "bf6fda97",
   "metadata": {},
   "outputs": [
    {
     "name": "stdout",
     "output_type": "stream",
     "text": [
      "[ 0  2  4  6  8 10 12 14 16 18 20 22 24 26 28 30]\n"
     ]
    }
   ],
   "source": [
    "np3 = np.arange(0, 31, 2)\n",
    "print(np3)"
   ]
  },
  {
   "cell_type": "code",
   "execution_count": 17,
   "id": "732f1820",
   "metadata": {},
   "outputs": [
    {
     "data": {
      "text/plain": [
       "array([ 0,  2,  4,  6,  8, 10, 12, 14, 16, 18, 20, 22, 24, 26, 28, 30])"
      ]
     },
     "execution_count": 17,
     "metadata": {},
     "output_type": "execute_result"
    }
   ],
   "source": [
    "np3"
   ]
  },
  {
   "cell_type": "code",
   "execution_count": 18,
   "id": "80da792b",
   "metadata": {},
   "outputs": [],
   "source": [
    "np4 = np.linspace(1, 15, 3)"
   ]
  },
  {
   "cell_type": "code",
   "execution_count": 19,
   "id": "1f8c12e7",
   "metadata": {},
   "outputs": [
    {
     "name": "stdout",
     "output_type": "stream",
     "text": [
      "[ 1.  8. 15.]\n"
     ]
    }
   ],
   "source": [
    "print(np4)"
   ]
  },
  {
   "cell_type": "code",
   "execution_count": 20,
   "id": "8fd8390e",
   "metadata": {},
   "outputs": [
    {
     "data": {
      "text/plain": [
       "array([ 1.,  8., 15.])"
      ]
     },
     "execution_count": 20,
     "metadata": {},
     "output_type": "execute_result"
    }
   ],
   "source": [
    "np4"
   ]
  },
  {
   "cell_type": "code",
   "execution_count": 21,
   "id": "136e7f48",
   "metadata": {},
   "outputs": [],
   "source": [
    "np4 = np.linspace(1, 10, 10)"
   ]
  },
  {
   "cell_type": "code",
   "execution_count": 22,
   "id": "def5f30d",
   "metadata": {},
   "outputs": [
    {
     "data": {
      "text/plain": [
       "array([ 1.,  2.,  3.,  4.,  5.,  6.,  7.,  8.,  9., 10.])"
      ]
     },
     "execution_count": 22,
     "metadata": {},
     "output_type": "execute_result"
    }
   ],
   "source": [
    "np4"
   ]
  },
  {
   "cell_type": "code",
   "execution_count": 23,
   "id": "dba25c6d",
   "metadata": {},
   "outputs": [
    {
     "name": "stdout",
     "output_type": "stream",
     "text": [
      "[0. 0. 0. 0. 0.]\n"
     ]
    }
   ],
   "source": [
    "np5 = np.zeros((5,))\n",
    "print(np5)"
   ]
  },
  {
   "cell_type": "code",
   "execution_count": 24,
   "id": "eaab0fae",
   "metadata": {},
   "outputs": [
    {
     "data": {
      "text/plain": [
       "array([0., 0., 0., 0., 0.])"
      ]
     },
     "execution_count": 24,
     "metadata": {},
     "output_type": "execute_result"
    }
   ],
   "source": [
    "np5"
   ]
  },
  {
   "cell_type": "code",
   "execution_count": 25,
   "id": "78875b3b",
   "metadata": {},
   "outputs": [
    {
     "name": "stdout",
     "output_type": "stream",
     "text": [
      "[1. 1. 1. 1. 1.]\n"
     ]
    }
   ],
   "source": [
    "np6 = np.ones((5,))\n",
    "print(np6)"
   ]
  },
  {
   "cell_type": "code",
   "execution_count": 26,
   "id": "31b2baec",
   "metadata": {},
   "outputs": [
    {
     "name": "stdout",
     "output_type": "stream",
     "text": [
      "[[1. 1.]\n",
      " [1. 1.]\n",
      " [1. 1.]\n",
      " [1. 1.]\n",
      " [1. 1.]]\n"
     ]
    }
   ],
   "source": [
    "np7 = np.ones((5,2))\n",
    "print(np7)"
   ]
  },
  {
   "cell_type": "code",
   "execution_count": 27,
   "id": "5cc3db22",
   "metadata": {},
   "outputs": [
    {
     "data": {
      "text/plain": [
       "array([[1., 1.],\n",
       "       [1., 1.],\n",
       "       [1., 1.],\n",
       "       [1., 1.],\n",
       "       [1., 1.]])"
      ]
     },
     "execution_count": 27,
     "metadata": {},
     "output_type": "execute_result"
    }
   ],
   "source": [
    "np7"
   ]
  },
  {
   "cell_type": "code",
   "execution_count": 28,
   "id": "3f4056e9",
   "metadata": {},
   "outputs": [
    {
     "name": "stdout",
     "output_type": "stream",
     "text": [
      "[[1. 1. 1.]\n",
      " [1. 1. 1.]\n",
      " [1. 1. 1.]\n",
      " [1. 1. 1.]\n",
      " [1. 1. 1.]]\n"
     ]
    }
   ],
   "source": [
    "np7 = np.ones((5,3))\n",
    "print(np7)"
   ]
  },
  {
   "cell_type": "code",
   "execution_count": 29,
   "id": "52956a8b",
   "metadata": {},
   "outputs": [],
   "source": [
    "listdata = [[1,2,3,4,5],\n",
    "       [6,7,8,9,10]]"
   ]
  },
  {
   "cell_type": "code",
   "execution_count": 30,
   "id": "b317b91e",
   "metadata": {},
   "outputs": [
    {
     "data": {
      "text/plain": [
       "[[1, 2, 3, 4, 5], [6, 7, 8, 9, 10]]"
      ]
     },
     "execution_count": 30,
     "metadata": {},
     "output_type": "execute_result"
    }
   ],
   "source": [
    "listdata"
   ]
  },
  {
   "cell_type": "code",
   "execution_count": 32,
   "id": "97f7d0a8",
   "metadata": {},
   "outputs": [],
   "source": [
    "np8 = np.array(listdata)"
   ]
  },
  {
   "cell_type": "code",
   "execution_count": 33,
   "id": "055d7961",
   "metadata": {},
   "outputs": [
    {
     "data": {
      "text/plain": [
       "array([[ 1,  2,  3,  4,  5],\n",
       "       [ 6,  7,  8,  9, 10]])"
      ]
     },
     "execution_count": 33,
     "metadata": {},
     "output_type": "execute_result"
    }
   ],
   "source": [
    "np8"
   ]
  },
  {
   "cell_type": "code",
   "execution_count": 34,
   "id": "c245fd46",
   "metadata": {},
   "outputs": [
    {
     "name": "stdout",
     "output_type": "stream",
     "text": [
      "[[ 1  2  3  4  5]\n",
      " [ 6  7  8  9 10]]\n"
     ]
    }
   ],
   "source": [
    "print(np8)"
   ]
  },
  {
   "cell_type": "code",
   "execution_count": 35,
   "id": "81d6a197",
   "metadata": {},
   "outputs": [
    {
     "name": "stdout",
     "output_type": "stream",
     "text": [
      "維度 2\n"
     ]
    }
   ],
   "source": [
    "print('維度', np8.ndim)"
   ]
  },
  {
   "cell_type": "code",
   "execution_count": 36,
   "id": "a5b9b945",
   "metadata": {},
   "outputs": [
    {
     "name": "stdout",
     "output_type": "stream",
     "text": [
      "形狀 (2, 5)\n"
     ]
    }
   ],
   "source": [
    "print('形狀', np8.shape)"
   ]
  },
  {
   "cell_type": "code",
   "execution_count": 37,
   "id": "47635ecb",
   "metadata": {},
   "outputs": [
    {
     "name": "stdout",
     "output_type": "stream",
     "text": [
      "數量 10\n"
     ]
    }
   ],
   "source": [
    "print('數量', np8.size)"
   ]
  },
  {
   "cell_type": "code",
   "execution_count": 38,
   "id": "2a8d7301",
   "metadata": {},
   "outputs": [],
   "source": [
    "np9 = np.arange(1,21)"
   ]
  },
  {
   "cell_type": "code",
   "execution_count": 39,
   "id": "2bacf51f",
   "metadata": {},
   "outputs": [
    {
     "data": {
      "text/plain": [
       "array([ 1,  2,  3,  4,  5,  6,  7,  8,  9, 10, 11, 12, 13, 14, 15, 16, 17,\n",
       "       18, 19, 20])"
      ]
     },
     "execution_count": 39,
     "metadata": {},
     "output_type": "execute_result"
    }
   ],
   "source": [
    "np9"
   ]
  },
  {
   "cell_type": "code",
   "execution_count": 41,
   "id": "b5a1bd01",
   "metadata": {},
   "outputs": [
    {
     "name": "stdout",
     "output_type": "stream",
     "text": [
      "[ 1  2  3  4  5  6  7  8  9 10 11 12 13 14 15 16 17 18 19 20]\n"
     ]
    }
   ],
   "source": [
    "print(np9)"
   ]
  },
  {
   "cell_type": "code",
   "execution_count": 43,
   "id": "69fc2df2",
   "metadata": {},
   "outputs": [],
   "source": [
    "np10 = np9.reshape(4,5)"
   ]
  },
  {
   "cell_type": "code",
   "execution_count": 44,
   "id": "b9f8eaf6",
   "metadata": {},
   "outputs": [
    {
     "data": {
      "text/plain": [
       "array([[ 1,  2,  3,  4,  5],\n",
       "       [ 6,  7,  8,  9, 10],\n",
       "       [11, 12, 13, 14, 15],\n",
       "       [16, 17, 18, 19, 20]])"
      ]
     },
     "execution_count": 44,
     "metadata": {},
     "output_type": "execute_result"
    }
   ],
   "source": [
    "np10"
   ]
  },
  {
   "cell_type": "code",
   "execution_count": 45,
   "id": "d0dd9497",
   "metadata": {},
   "outputs": [
    {
     "name": "stdout",
     "output_type": "stream",
     "text": [
      "[[ 1  2  3  4  5]\n",
      " [ 6  7  8  9 10]\n",
      " [11 12 13 14 15]\n",
      " [16 17 18 19 20]]\n"
     ]
    }
   ],
   "source": [
    "print(np10)"
   ]
  },
  {
   "cell_type": "code",
   "execution_count": 46,
   "id": "36bfa806",
   "metadata": {},
   "outputs": [],
   "source": [
    "np10a = np9.reshape(5,4)"
   ]
  },
  {
   "cell_type": "code",
   "execution_count": 47,
   "id": "f1e27add",
   "metadata": {},
   "outputs": [
    {
     "name": "stdout",
     "output_type": "stream",
     "text": [
      "[[ 1  2  3  4]\n",
      " [ 5  6  7  8]\n",
      " [ 9 10 11 12]\n",
      " [13 14 15 16]\n",
      " [17 18 19 20]]\n"
     ]
    }
   ],
   "source": [
    "print(np10a)"
   ]
  },
  {
   "cell_type": "code",
   "execution_count": 48,
   "id": "3a02de26",
   "metadata": {},
   "outputs": [
    {
     "ename": "ValueError",
     "evalue": "cannot reshape array of size 20 into shape (5,5)",
     "output_type": "error",
     "traceback": [
      "\u001b[1;31m---------------------------------------------------------------------------\u001b[0m",
      "\u001b[1;31mValueError\u001b[0m                                Traceback (most recent call last)",
      "Input \u001b[1;32mIn [48]\u001b[0m, in \u001b[0;36m<cell line: 1>\u001b[1;34m()\u001b[0m\n\u001b[1;32m----> 1\u001b[0m np10b\u001b[38;5;241m=\u001b[39m \u001b[43mnp9\u001b[49m\u001b[38;5;241;43m.\u001b[39;49m\u001b[43mreshape\u001b[49m\u001b[43m(\u001b[49m\u001b[38;5;241;43m5\u001b[39;49m\u001b[43m,\u001b[49m\u001b[38;5;241;43m5\u001b[39;49m\u001b[43m)\u001b[49m\n",
      "\u001b[1;31mValueError\u001b[0m: cannot reshape array of size 20 into shape (5,5)"
     ]
    }
   ],
   "source": [
    "np10b= np9.reshape(5,5)"
   ]
  },
  {
   "cell_type": "code",
   "execution_count": 49,
   "id": "a699d431",
   "metadata": {},
   "outputs": [
    {
     "name": "stdout",
     "output_type": "stream",
     "text": [
      "[0 1 2 3 4 5 6 7 8]\n",
      "0\n",
      "8\n",
      "[1 2 3 4 5 6 7]\n",
      "[1 3 5 7]\n",
      "[8 7 6 5 4 3 2]\n",
      "[0 1 2 3 4 5 6 7 8]\n",
      "[0 1 2 3]\n",
      "[4 5 6 7 8]\n"
     ]
    }
   ],
   "source": [
    "np10 = np.arange(0,9)\n",
    "print(np10)\n",
    "print(np10[0])\n",
    "print(np10[8])\n",
    "print(np10[1:8])\n",
    "print(np10[1:8:2])\n",
    "print(np10[8:1:-1])\n",
    "print(np10[:])\n",
    "print(np10[:4])\n",
    "print(np10[4:])"
   ]
  },
  {
   "cell_type": "code",
   "execution_count": 50,
   "id": "dac6869d",
   "metadata": {},
   "outputs": [],
   "source": [
    "np11 = np.arange(1, 21).reshape(5, 4)"
   ]
  },
  {
   "cell_type": "code",
   "execution_count": 51,
   "id": "3b27bdf5",
   "metadata": {},
   "outputs": [
    {
     "data": {
      "text/plain": [
       "array([[ 1,  2,  3,  4],\n",
       "       [ 5,  6,  7,  8],\n",
       "       [ 9, 10, 11, 12],\n",
       "       [13, 14, 15, 16],\n",
       "       [17, 18, 19, 20]])"
      ]
     },
     "execution_count": 51,
     "metadata": {},
     "output_type": "execute_result"
    }
   ],
   "source": [
    "np11"
   ]
  },
  {
   "cell_type": "code",
   "execution_count": 52,
   "id": "5228efc1",
   "metadata": {},
   "outputs": [
    {
     "name": "stdout",
     "output_type": "stream",
     "text": [
      "[[ 1  2  3  4]\n",
      " [ 5  6  7  8]\n",
      " [ 9 10 11 12]\n",
      " [13 14 15 16]\n",
      " [17 18 19 20]]\n"
     ]
    }
   ],
   "source": [
    "print(np11)"
   ]
  },
  {
   "cell_type": "code",
   "execution_count": 53,
   "id": "0cb166fd",
   "metadata": {},
   "outputs": [
    {
     "data": {
      "text/plain": [
       "3"
      ]
     },
     "execution_count": 53,
     "metadata": {},
     "output_type": "execute_result"
    }
   ],
   "source": [
    "np11[0, 2]"
   ]
  },
  {
   "cell_type": "code",
   "execution_count": 54,
   "id": "c61b546e",
   "metadata": {},
   "outputs": [
    {
     "data": {
      "text/plain": [
       "4"
      ]
     },
     "execution_count": 54,
     "metadata": {},
     "output_type": "execute_result"
    }
   ],
   "source": [
    "np11[0, 3]"
   ]
  },
  {
   "cell_type": "code",
   "execution_count": 55,
   "id": "0d358a60",
   "metadata": {},
   "outputs": [
    {
     "data": {
      "text/plain": [
       "7"
      ]
     },
     "execution_count": 55,
     "metadata": {},
     "output_type": "execute_result"
    }
   ],
   "source": [
    "np11[1, 2]"
   ]
  },
  {
   "cell_type": "code",
   "execution_count": 56,
   "id": "6ab94ea0",
   "metadata": {},
   "outputs": [
    {
     "name": "stdout",
     "output_type": "stream",
     "text": [
      "[ 7 11]\n",
      "[[ 6  7]\n",
      " [10 11]]\n",
      "[[ 1  3]\n",
      " [ 9 11]\n",
      " [17 19]]\n",
      "[ 3  7 11 15 19]\n",
      "[5 6 7 8]\n",
      "[[ 1  2  3  4]\n",
      " [ 5  6  7  8]\n",
      " [ 9 10 11 12]\n",
      " [13 14 15 16]\n",
      " [17 18 19 20]]\n"
     ]
    }
   ],
   "source": [
    "print(np11[1:3, 2])\n",
    "print(np11[1:3, 1:3])\n",
    "print(np11[::2, ::2])\n",
    "print(np11[:, 2])\n",
    "print(np11[1, :])\n",
    "print(np11[:, :])"
   ]
  },
  {
   "cell_type": "code",
   "execution_count": 57,
   "id": "c5847c95",
   "metadata": {},
   "outputs": [
    {
     "name": "stdout",
     "output_type": "stream",
     "text": [
      "1.產生2x3 0~1之間的隨機浮點數\n",
      " [[0.06372775 0.9295176  0.64126234]\n",
      " [0.22661506 0.21054886 0.60987101]]\n",
      "2.產生2x3常態分佈的隨機浮點數\n",
      " [[-0.25887383 -0.69156787  0.58169129]\n",
      " [-0.49848117 -0.00629931  1.22501806]]\n",
      "3.產生0~4(不含5)隨機整數\n",
      " 0\n",
      "4.產生2~4(不含5)5個隨機整數\n",
      " [2 4 4 4 3]\n",
      "5.產生3個 0~1之間的隨機浮點數\n",
      " [0.55662926 0.44645724 0.31582168] \n",
      " [0.23955766 0.85320987 0.88766383] \n",
      " [0.59562612 0.42315716 0.50719735]\n"
     ]
    }
   ],
   "source": [
    "print('1.產生2x3 0~1之間的隨機浮點數\\n',\n",
    "      np.random.rand(2,3))\n",
    "print('2.產生2x3常態分佈的隨機浮點數\\n',\n",
    "      np.random.randn(2,3))\n",
    "print('3.產生0~4(不含5)隨機整數\\n',\n",
    "      np.random.randint(5))\n",
    "print('4.產生2~4(不含5)5個隨機整數\\n',\n",
    "      np.random.randint(2,5,[5]))\n",
    "print('5.產生3個 0~1之間的隨機浮點數\\n',\n",
    "      np.random.random(3),'\\n',\n",
    "      np.random.random_sample(3),'\\n',\n",
    "      np.random.sample(3))"
   ]
  },
  {
   "cell_type": "code",
   "execution_count": 58,
   "id": "17bcec75",
   "metadata": {},
   "outputs": [],
   "source": [
    "np12 = np.genfromtxt('scores.csv', delimiter=',', skip_header=1)"
   ]
  },
  {
   "cell_type": "code",
   "execution_count": 59,
   "id": "d52ef634",
   "metadata": {},
   "outputs": [
    {
     "data": {
      "text/plain": [
       "array([[ 1., 87., 85., 82.],\n",
       "       [ 2., 92., 87., 90.],\n",
       "       [ 3., 80., 91., 87.],\n",
       "       [ 4., 78., 82., 95.],\n",
       "       [ 5., 88., 89., 90.],\n",
       "       [ 6., 82., 87., 88.],\n",
       "       [ 7., 90., 92., 82.],\n",
       "       [ 8., 87., 80., 90.],\n",
       "       [ 9., 95., 78., 87.],\n",
       "       [10., 90., 88., 95.],\n",
       "       [11., 88., 89., 75.],\n",
       "       [12., 82., 91., 66.],\n",
       "       [13., 90., 82., 87.],\n",
       "       [14., 87., 89., 92.],\n",
       "       [15., 95., 87., 80.],\n",
       "       [16., 90., 92., 78.],\n",
       "       [17., 82., 80., 88.],\n",
       "       [18., 90., 78., 93.],\n",
       "       [19., 67., 87., 95.],\n",
       "       [20., 91., 82., 88.],\n",
       "       [21., 82., 81., 82.],\n",
       "       [22., 79., 87., 90.],\n",
       "       [23., 87., 92., 87.],\n",
       "       [24., 92., 82., 95.],\n",
       "       [25., 80., 90., 78.],\n",
       "       [26., 78., 76., 91.],\n",
       "       [27., 66., 90., 82.],\n",
       "       [28., 89., 77., 89.],\n",
       "       [29., 87., 95., 87.],\n",
       "       [30., 73., 90., 92.]])"
      ]
     },
     "execution_count": 59,
     "metadata": {},
     "output_type": "execute_result"
    }
   ],
   "source": [
    "np12"
   ]
  },
  {
   "cell_type": "code",
   "execution_count": 60,
   "id": "fde72e81",
   "metadata": {},
   "outputs": [
    {
     "name": "stdout",
     "output_type": "stream",
     "text": [
      "(30, 4)\n"
     ]
    }
   ],
   "source": [
    "print(np12.shape)"
   ]
  },
  {
   "cell_type": "code",
   "execution_count": null,
   "id": "a66e547c",
   "metadata": {},
   "outputs": [],
   "source": []
  }
 ],
 "metadata": {
  "kernelspec": {
   "display_name": "Python 3 (ipykernel)",
   "language": "python",
   "name": "python3"
  },
  "language_info": {
   "codemirror_mode": {
    "name": "ipython",
    "version": 3
   },
   "file_extension": ".py",
   "mimetype": "text/x-python",
   "name": "python",
   "nbconvert_exporter": "python",
   "pygments_lexer": "ipython3",
   "version": "3.9.12"
  }
 },
 "nbformat": 4,
 "nbformat_minor": 5
}
