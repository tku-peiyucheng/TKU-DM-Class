{
 "cells": [
  {
   "cell_type": "code",
   "execution_count": null,
   "id": "9fb8ff52",
   "metadata": {},
   "outputs": [],
   "source": []
  },
  {
   "cell_type": "code",
   "execution_count": null,
   "id": "32e6f08f",
   "metadata": {},
   "outputs": [],
   "source": []
  },
  {
   "cell_type": "code",
   "execution_count": 2,
   "id": "5331c881",
   "metadata": {
    "scrolled": false
   },
   "outputs": [
    {
     "name": "stdout",
     "output_type": "stream",
     "text": [
      "大家好!\n"
     ]
    }
   ],
   "source": [
    "print(\"大家好!\")\n"
   ]
  },
  {
   "cell_type": "code",
   "execution_count": 4,
   "id": "fd2b06ce",
   "metadata": {
    "scrolled": true
   },
   "outputs": [
    {
     "name": "stdout",
     "output_type": "stream",
     "text": [
      "test\n"
     ]
    }
   ],
   "source": [
    "print(\"test\")"
   ]
  },
  {
   "cell_type": "code",
   "execution_count": 5,
   "id": "21d46dda",
   "metadata": {},
   "outputs": [
    {
     "name": "stdout",
     "output_type": "stream",
     "text": [
      "Package              Version\n",
      "-------------------- ---------\n",
      "anyio                3.5.0\n",
      "argon2-cffi          21.3.0\n",
      "argon2-cffi-bindings 21.2.0\n",
      "asttokens            2.0.5\n",
      "attrs                21.4.0\n",
      "Babel                2.9.1\n",
      "backcall             0.2.0\n",
      "beautifulsoup4       4.11.1\n",
      "bleach               4.1.0\n",
      "brotlipy             0.7.0\n",
      "certifi              2022.6.15\n",
      "cffi                 1.15.1\n",
      "charset-normalizer   2.0.4\n",
      "colorama             0.4.5\n",
      "cryptography         37.0.1\n",
      "debugpy              1.5.1\n",
      "decorator            5.1.1\n",
      "defusedxml           0.7.1\n",
      "entrypoints          0.4\n",
      "executing            0.8.3\n",
      "fastjsonschema       2.15.1\n",
      "idna                 3.3\n",
      "ipykernel            6.9.1\n",
      "ipython              8.4.0\n",
      "ipython-genutils     0.2.0\n",
      "jedi                 0.18.1\n",
      "Jinja2               3.0.3\n",
      "json5                0.9.6\n",
      "jsonschema           4.4.0\n",
      "jupyter-client       7.2.2\n",
      "jupyter-core         4.10.0\n",
      "jupyter-server       1.18.1\n",
      "jupyterlab           3.4.4\n",
      "jupyterlab-pygments  0.1.2\n",
      "jupyterlab-server    2.12.0\n",
      "MarkupSafe           2.1.1\n",
      "matplotlib-inline    0.1.2\n",
      "mistune              0.8.4\n",
      "nbclassic            0.3.5\n",
      "nbclient             0.5.13\n",
      "nbconvert            6.4.4\n",
      "nbformat             5.3.0\n",
      "nest-asyncio         1.5.5\n",
      "notebook             6.4.12\n",
      "numpy                1.23.3\n",
      "packaging            21.3\n",
      "pandocfilters        1.5.0\n",
      "parso                0.8.3\n",
      "pickleshare          0.7.5\n",
      "pip                  22.1.2\n",
      "prometheus-client    0.14.1\n",
      "prompt-toolkit       3.0.20\n",
      "pure-eval            0.2.2\n",
      "pycparser            2.21\n",
      "Pygments             2.11.2\n",
      "pyOpenSSL            22.0.0\n",
      "pyparsing            3.0.4\n",
      "pyrsistent           0.18.0\n",
      "PySocks              1.7.1\n",
      "python-dateutil      2.8.2\n",
      "pytz                 2022.1\n",
      "pywin32              302\n",
      "pywinpty             2.0.2\n",
      "pyzmq                23.2.0\n",
      "requests             2.28.1\n",
      "Send2Trash           1.8.0\n",
      "setuptools           61.2.0\n",
      "six                  1.16.0\n",
      "sniffio              1.2.0\n",
      "soupsieve            2.3.1\n",
      "stack-data           0.2.0\n",
      "terminado            0.13.1\n",
      "testpath             0.6.0\n",
      "tornado              6.1\n",
      "traitlets            5.1.1\n",
      "typing_extensions    4.3.0\n",
      "urllib3              1.26.11\n",
      "wcwidth              0.2.5\n",
      "webencodings         0.5.1\n",
      "websocket-client     0.58.0\n",
      "wget                 3.2\n",
      "wheel                0.37.1\n",
      "win-inet-pton        1.1.0\n",
      "wincertstore         0.2\n",
      "Note: you may need to restart the kernel to use updated packages.\n"
     ]
    }
   ],
   "source": [
    "pip list"
   ]
  },
  {
   "cell_type": "code",
   "execution_count": 6,
   "id": "085ff611",
   "metadata": {},
   "outputs": [
    {
     "data": {
      "text/plain": [
       "'C:\\\\Users\\\\PeiYu\\\\dm\\\\TKU-DM-Class'"
      ]
     },
     "execution_count": 6,
     "metadata": {},
     "output_type": "execute_result"
    }
   ],
   "source": [
    "pwd"
   ]
  },
  {
   "cell_type": "code",
   "execution_count": 7,
   "id": "e7763326",
   "metadata": {},
   "outputs": [
    {
     "name": "stdout",
     "output_type": "stream",
     "text": [
      " 磁碟區 C 中的磁碟沒有標籤。\n",
      " 磁碟區序號:  4A1C-CA0E\n",
      "\n",
      " C:\\Users\\PeiYu\\dm\\TKU-DM-Class 的目錄\n",
      "\n",
      "2022/09/22  上午 11:18    <DIR>          .\n",
      "2022/09/22  上午 11:05    <DIR>          ..\n",
      "2022/09/22  上午 11:15    <DIR>          .ipynb_checkpoints\n",
      "2022/09/22  上午 11:18             1,292 0922.ipynb\n",
      "2022/09/22  上午 11:05               908 Hello.ipynb\n",
      "2022/09/22  上午 11:05                14 README.md\n",
      "2022/09/22  上午 11:05               409 scores.csv\n",
      "2022/09/22  上午 11:05             6,271 Untitled.ipynb\n",
      "               5 個檔案           8,894 位元組\n",
      "               3 個目錄  731,130,806,272 位元組可用\n"
     ]
    }
   ],
   "source": [
    "ls"
   ]
  },
  {
   "cell_type": "code",
   "execution_count": 8,
   "id": "550adf40",
   "metadata": {},
   "outputs": [
    {
     "name": "stdout",
     "output_type": "stream",
     "text": [
      "Requirement already satisfied: wget in c:\\users\\peiyu\\anaconda3\\envs\\peiyu_base\\lib\\site-packages (3.2)\n",
      "Note: you may need to restart the kernel to use updated packages.\n"
     ]
    }
   ],
   "source": [
    "pip install wget"
   ]
  },
  {
   "cell_type": "code",
   "execution_count": 9,
   "id": "36c8cb62",
   "metadata": {},
   "outputs": [],
   "source": [
    "import wget"
   ]
  },
  {
   "cell_type": "code",
   "execution_count": 10,
   "id": "4b3d859b",
   "metadata": {},
   "outputs": [
    {
     "name": "stdout",
     "output_type": "stream",
     "text": [
      "\r",
      "-1 / unknown\r",
      "-1 / unknown\r",
      "-1 / unknown\r",
      "-1 / unknown\r",
      "-1 / unknown\r",
      "-1 / unknown\r",
      "-1 / unknown\r",
      "-1 / unknown\r",
      "-1 / unknown\r",
      "-1 / unknown\r",
      "-1 / unknown\r",
      "-1 / unknown\r",
      "-1 / unknown\r",
      "-1 / unknown\r",
      "-1 / unknown\r",
      "-1 / unknown\r",
      "-1 / unknown\r",
      "-1 / unknown\r",
      "-1 / unknown\r",
      "-1 / unknown"
     ]
    },
    {
     "data": {
      "text/plain": [
       "'scores (1).csv'"
      ]
     },
     "execution_count": 10,
     "metadata": {},
     "output_type": "execute_result"
    }
   ],
   "source": [
    "wget.download(\"https://github.com/tku-peiyucheng/TKU-DM-Class/blob/main/scores.csv\")"
   ]
  },
  {
   "cell_type": "code",
   "execution_count": 11,
   "id": "5ee63581",
   "metadata": {},
   "outputs": [
    {
     "name": "stdout",
     "output_type": "stream",
     "text": [
      " 磁碟區 C 中的磁碟沒有標籤。\n",
      " 磁碟區序號:  4A1C-CA0E\n",
      "\n",
      " C:\\Users\\PeiYu\\dm\\TKU-DM-Class 的目錄\n",
      "\n",
      "2022/09/22  上午 11:37    <DIR>          .\n",
      "2022/09/22  上午 11:05    <DIR>          ..\n",
      "2022/09/22  上午 11:15    <DIR>          .ipynb_checkpoints\n",
      "2022/09/22  上午 11:36             6,476 0922.ipynb\n",
      "2022/09/22  上午 11:05               908 Hello.ipynb\n",
      "2022/09/22  上午 11:05                14 README.md\n",
      "2022/09/22  上午 11:37           152,257 scores (1).csv\n",
      "2022/09/22  上午 11:05               409 scores.csv\n",
      "2022/09/22  上午 11:05             6,271 Untitled.ipynb\n",
      "               6 個檔案         166,335 位元組\n",
      "               3 個目錄  731,134,054,400 位元組可用\n"
     ]
    }
   ],
   "source": [
    "ls"
   ]
  },
  {
   "cell_type": "code",
   "execution_count": null,
   "id": "f03e35ef",
   "metadata": {},
   "outputs": [],
   "source": []
  }
 ],
 "metadata": {
  "kernelspec": {
   "display_name": "Python 3 (ipykernel)",
   "language": "python",
   "name": "python3"
  },
  "language_info": {
   "codemirror_mode": {
    "name": "ipython",
    "version": 3
   },
   "file_extension": ".py",
   "mimetype": "text/x-python",
   "name": "python",
   "nbconvert_exporter": "python",
   "pygments_lexer": "ipython3",
   "version": "3.9.12"
  }
 },
 "nbformat": 4,
 "nbformat_minor": 5
}
