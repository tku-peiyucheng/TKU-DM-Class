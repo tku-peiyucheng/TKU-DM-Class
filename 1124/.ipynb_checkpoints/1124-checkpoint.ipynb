{
 "cells": [
  {
   "cell_type": "markdown",
   "metadata": {
    "id": "Fa7FXrKplAeo"
   },
   "source": [
    "# 資料合併"
   ]
  },
  {
   "cell_type": "markdown",
   "metadata": {
    "id": "qOO4HcPZlFeR"
   },
   "source": [
    "## 資料附加"
   ]
  },
  {
   "cell_type": "code",
   "execution_count": 14,
   "metadata": {
    "colab": {
     "base_uri": "https://localhost:8080/",
     "height": 206
    },
    "id": "R1gggNd3j1bR",
    "outputId": "384ff21c-9e4d-414d-851d-412130102529",
    "scrolled": true
   },
   "outputs": [
    {
     "name": "stdout",
     "output_type": "stream",
     "text": [
      "Collecting pandas==1.3.5\n",
      "  Downloading pandas-1.3.5-cp39-cp39-win_amd64.whl (10.2 MB)\n",
      "Requirement already satisfied: numpy>=1.17.3 in c:\\users\\peiyu\\anaconda3\\lib\\site-packages (from pandas==1.3.5) (1.21.5)\n",
      "Requirement already satisfied: python-dateutil>=2.7.3 in c:\\users\\peiyu\\anaconda3\\lib\\site-packages (from pandas==1.3.5) (2.8.2)\n",
      "Requirement already satisfied: pytz>=2017.3 in c:\\users\\peiyu\\anaconda3\\lib\\site-packages (from pandas==1.3.5) (2021.3)\n",
      "Requirement already satisfied: six>=1.5 in c:\\users\\peiyu\\anaconda3\\lib\\site-packages (from python-dateutil>=2.7.3->pandas==1.3.5) (1.16.0)\n",
      "Installing collected packages: pandas\n",
      "  Attempting uninstall: pandas\n",
      "    Found existing installation: pandas 1.4.2\n",
      "    Uninstalling pandas-1.4.2:\n",
      "      Successfully uninstalled pandas-1.4.2\n",
      "Successfully installed pandas-1.3.5\n",
      "Note: you may need to restart the kernel to use updated packages.\n"
     ]
    }
   ],
   "source": [
    "pip install pandas==1.3.5"
   ]
  },
  {
   "cell_type": "markdown",
   "metadata": {},
   "source": [
    "### 需降pandas版本"
   ]
  },
  {
   "cell_type": "markdown",
   "metadata": {},
   "source": [
    "### pandas.DataFrame.append  => 是一種資料合併的方法，可將資料加在原始資料後"
   ]
  },
  {
   "cell_type": "code",
   "execution_count": 1,
   "metadata": {},
   "outputs": [],
   "source": [
    "import pandas as pd"
   ]
  },
  {
   "cell_type": "code",
   "execution_count": 2,
   "metadata": {},
   "outputs": [],
   "source": [
    "df1 = pd.read_csv('score_1.csv')"
   ]
  },
  {
   "cell_type": "code",
   "execution_count": 3,
   "metadata": {},
   "outputs": [],
   "source": [
    "df2 = pd.read_csv('score_2.csv')"
   ]
  },
  {
   "cell_type": "code",
   "execution_count": 5,
   "metadata": {},
   "outputs": [
    {
     "data": {
      "text/html": [
       "<div>\n",
       "<style scoped>\n",
       "    .dataframe tbody tr th:only-of-type {\n",
       "        vertical-align: middle;\n",
       "    }\n",
       "\n",
       "    .dataframe tbody tr th {\n",
       "        vertical-align: top;\n",
       "    }\n",
       "\n",
       "    .dataframe thead th {\n",
       "        text-align: right;\n",
       "    }\n",
       "</style>\n",
       "<table border=\"1\" class=\"dataframe\">\n",
       "  <thead>\n",
       "    <tr style=\"text-align: right;\">\n",
       "      <th></th>\n",
       "      <th>座號</th>\n",
       "      <th>國文</th>\n",
       "      <th>數學</th>\n",
       "      <th>自然</th>\n",
       "    </tr>\n",
       "  </thead>\n",
       "  <tbody>\n",
       "    <tr>\n",
       "      <th>0</th>\n",
       "      <td>1</td>\n",
       "      <td>58</td>\n",
       "      <td>40</td>\n",
       "      <td>45</td>\n",
       "    </tr>\n",
       "    <tr>\n",
       "      <th>1</th>\n",
       "      <td>2</td>\n",
       "      <td>48</td>\n",
       "      <td>46</td>\n",
       "      <td>55</td>\n",
       "    </tr>\n",
       "    <tr>\n",
       "      <th>2</th>\n",
       "      <td>3</td>\n",
       "      <td>81</td>\n",
       "      <td>89</td>\n",
       "      <td>74</td>\n",
       "    </tr>\n",
       "    <tr>\n",
       "      <th>3</th>\n",
       "      <td>4</td>\n",
       "      <td>43</td>\n",
       "      <td>51</td>\n",
       "      <td>75</td>\n",
       "    </tr>\n",
       "    <tr>\n",
       "      <th>4</th>\n",
       "      <td>5</td>\n",
       "      <td>69</td>\n",
       "      <td>60</td>\n",
       "      <td>73</td>\n",
       "    </tr>\n",
       "  </tbody>\n",
       "</table>\n",
       "</div>"
      ],
      "text/plain": [
       "   座號  國文  數學  自然\n",
       "0   1  58  40  45\n",
       "1   2  48  46  55\n",
       "2   3  81  89  74\n",
       "3   4  43  51  75\n",
       "4   5  69  60  73"
      ]
     },
     "execution_count": 5,
     "metadata": {},
     "output_type": "execute_result"
    }
   ],
   "source": [
    "df1.append(df2, ignore_index=True)"
   ]
  },
  {
   "cell_type": "code",
   "execution_count": 6,
   "metadata": {
    "colab": {
     "base_uri": "https://localhost:8080/",
     "height": 237
    },
    "id": "-gWOc86Foxnc",
    "outputId": "4deb8371-8595-49cd-cc9b-d03bb8d6924a"
   },
   "outputs": [],
   "source": [
    "df1 = pd.read_csv('score_1.csv')"
   ]
  },
  {
   "cell_type": "code",
   "execution_count": 7,
   "metadata": {},
   "outputs": [],
   "source": [
    "df2 = pd.read_csv('score_3.csv')"
   ]
  },
  {
   "cell_type": "code",
   "execution_count": 9,
   "metadata": {},
   "outputs": [
    {
     "data": {
      "text/html": [
       "<div>\n",
       "<style scoped>\n",
       "    .dataframe tbody tr th:only-of-type {\n",
       "        vertical-align: middle;\n",
       "    }\n",
       "\n",
       "    .dataframe tbody tr th {\n",
       "        vertical-align: top;\n",
       "    }\n",
       "\n",
       "    .dataframe thead th {\n",
       "        text-align: right;\n",
       "    }\n",
       "</style>\n",
       "<table border=\"1\" class=\"dataframe\">\n",
       "  <thead>\n",
       "    <tr style=\"text-align: right;\">\n",
       "      <th></th>\n",
       "      <th>座號</th>\n",
       "      <th>國文</th>\n",
       "      <th>數學</th>\n",
       "      <th>自然</th>\n",
       "      <th>社會</th>\n",
       "    </tr>\n",
       "  </thead>\n",
       "  <tbody>\n",
       "    <tr>\n",
       "      <th>0</th>\n",
       "      <td>1</td>\n",
       "      <td>58</td>\n",
       "      <td>40</td>\n",
       "      <td>45.0</td>\n",
       "      <td>NaN</td>\n",
       "    </tr>\n",
       "    <tr>\n",
       "      <th>1</th>\n",
       "      <td>2</td>\n",
       "      <td>48</td>\n",
       "      <td>46</td>\n",
       "      <td>55.0</td>\n",
       "      <td>NaN</td>\n",
       "    </tr>\n",
       "    <tr>\n",
       "      <th>2</th>\n",
       "      <td>3</td>\n",
       "      <td>81</td>\n",
       "      <td>89</td>\n",
       "      <td>74.0</td>\n",
       "      <td>NaN</td>\n",
       "    </tr>\n",
       "    <tr>\n",
       "      <th>3</th>\n",
       "      <td>4</td>\n",
       "      <td>100</td>\n",
       "      <td>42</td>\n",
       "      <td>NaN</td>\n",
       "      <td>95.0</td>\n",
       "    </tr>\n",
       "    <tr>\n",
       "      <th>4</th>\n",
       "      <td>5</td>\n",
       "      <td>78</td>\n",
       "      <td>90</td>\n",
       "      <td>NaN</td>\n",
       "      <td>47.0</td>\n",
       "    </tr>\n",
       "    <tr>\n",
       "      <th>5</th>\n",
       "      <td>6</td>\n",
       "      <td>98</td>\n",
       "      <td>58</td>\n",
       "      <td>NaN</td>\n",
       "      <td>67.0</td>\n",
       "    </tr>\n",
       "  </tbody>\n",
       "</table>\n",
       "</div>"
      ],
      "text/plain": [
       "   座號   國文  數學    自然    社會\n",
       "0   1   58  40  45.0   NaN\n",
       "1   2   48  46  55.0   NaN\n",
       "2   3   81  89  74.0   NaN\n",
       "3   4  100  42   NaN  95.0\n",
       "4   5   78  90   NaN  47.0\n",
       "5   6   98  58   NaN  67.0"
      ]
     },
     "execution_count": 9,
     "metadata": {},
     "output_type": "execute_result"
    }
   ],
   "source": [
    "df1.append(df2, ignore_index=True)"
   ]
  },
  {
   "cell_type": "markdown",
   "metadata": {},
   "source": [
    "## 請用上周教的方法將NaN補為60,再次印出表格"
   ]
  },
  {
   "cell_type": "markdown",
   "metadata": {
    "id": "gojPaXASlb6Q"
   },
   "source": [
    "## 資料串接"
   ]
  },
  {
   "cell_type": "code",
   "execution_count": 10,
   "metadata": {
    "colab": {
     "base_uri": "https://localhost:8080/",
     "height": 206
    },
    "id": "ug4C4xrGquQ2",
    "outputId": "20df9711-2d66-4b26-9f13-5ffa51d91acb"
   },
   "outputs": [],
   "source": [
    "df1 = pd.read_csv('score_1.csv')"
   ]
  },
  {
   "cell_type": "code",
   "execution_count": 11,
   "metadata": {},
   "outputs": [],
   "source": [
    "df2 = pd.read_csv('score_2.csv')"
   ]
  },
  {
   "cell_type": "code",
   "execution_count": 12,
   "metadata": {},
   "outputs": [
    {
     "data": {
      "text/html": [
       "<div>\n",
       "<style scoped>\n",
       "    .dataframe tbody tr th:only-of-type {\n",
       "        vertical-align: middle;\n",
       "    }\n",
       "\n",
       "    .dataframe tbody tr th {\n",
       "        vertical-align: top;\n",
       "    }\n",
       "\n",
       "    .dataframe thead th {\n",
       "        text-align: right;\n",
       "    }\n",
       "</style>\n",
       "<table border=\"1\" class=\"dataframe\">\n",
       "  <thead>\n",
       "    <tr style=\"text-align: right;\">\n",
       "      <th></th>\n",
       "      <th>座號</th>\n",
       "      <th>國文</th>\n",
       "      <th>數學</th>\n",
       "      <th>自然</th>\n",
       "    </tr>\n",
       "  </thead>\n",
       "  <tbody>\n",
       "    <tr>\n",
       "      <th>0</th>\n",
       "      <td>1</td>\n",
       "      <td>58</td>\n",
       "      <td>40</td>\n",
       "      <td>45</td>\n",
       "    </tr>\n",
       "    <tr>\n",
       "      <th>1</th>\n",
       "      <td>2</td>\n",
       "      <td>48</td>\n",
       "      <td>46</td>\n",
       "      <td>55</td>\n",
       "    </tr>\n",
       "    <tr>\n",
       "      <th>2</th>\n",
       "      <td>3</td>\n",
       "      <td>81</td>\n",
       "      <td>89</td>\n",
       "      <td>74</td>\n",
       "    </tr>\n",
       "    <tr>\n",
       "      <th>3</th>\n",
       "      <td>4</td>\n",
       "      <td>43</td>\n",
       "      <td>51</td>\n",
       "      <td>75</td>\n",
       "    </tr>\n",
       "    <tr>\n",
       "      <th>4</th>\n",
       "      <td>5</td>\n",
       "      <td>69</td>\n",
       "      <td>60</td>\n",
       "      <td>73</td>\n",
       "    </tr>\n",
       "  </tbody>\n",
       "</table>\n",
       "</div>"
      ],
      "text/plain": [
       "   座號  國文  數學  自然\n",
       "0   1  58  40  45\n",
       "1   2  48  46  55\n",
       "2   3  81  89  74\n",
       "3   4  43  51  75\n",
       "4   5  69  60  73"
      ]
     },
     "execution_count": 12,
     "metadata": {},
     "output_type": "execute_result"
    }
   ],
   "source": [
    "pd.concat([df1,df2], ignore_index=True)"
   ]
  },
  {
   "cell_type": "code",
   "execution_count": 13,
   "metadata": {
    "colab": {
     "base_uri": "https://localhost:8080/",
     "height": 237
    },
    "id": "bQ1zwDTssLiO",
    "outputId": "c30bf3b7-dd2f-4f6f-9088-fa8fd21e377c"
   },
   "outputs": [],
   "source": [
    "df1 = pd.read_csv('score_1.csv')"
   ]
  },
  {
   "cell_type": "code",
   "execution_count": 14,
   "metadata": {},
   "outputs": [],
   "source": [
    "df2 = pd.read_csv('score_3.csv')"
   ]
  },
  {
   "cell_type": "code",
   "execution_count": 15,
   "metadata": {},
   "outputs": [
    {
     "data": {
      "text/html": [
       "<div>\n",
       "<style scoped>\n",
       "    .dataframe tbody tr th:only-of-type {\n",
       "        vertical-align: middle;\n",
       "    }\n",
       "\n",
       "    .dataframe tbody tr th {\n",
       "        vertical-align: top;\n",
       "    }\n",
       "\n",
       "    .dataframe thead th {\n",
       "        text-align: right;\n",
       "    }\n",
       "</style>\n",
       "<table border=\"1\" class=\"dataframe\">\n",
       "  <thead>\n",
       "    <tr style=\"text-align: right;\">\n",
       "      <th></th>\n",
       "      <th>座號</th>\n",
       "      <th>國文</th>\n",
       "      <th>數學</th>\n",
       "    </tr>\n",
       "  </thead>\n",
       "  <tbody>\n",
       "    <tr>\n",
       "      <th>0</th>\n",
       "      <td>1</td>\n",
       "      <td>58</td>\n",
       "      <td>40</td>\n",
       "    </tr>\n",
       "    <tr>\n",
       "      <th>1</th>\n",
       "      <td>2</td>\n",
       "      <td>48</td>\n",
       "      <td>46</td>\n",
       "    </tr>\n",
       "    <tr>\n",
       "      <th>2</th>\n",
       "      <td>3</td>\n",
       "      <td>81</td>\n",
       "      <td>89</td>\n",
       "    </tr>\n",
       "    <tr>\n",
       "      <th>3</th>\n",
       "      <td>4</td>\n",
       "      <td>100</td>\n",
       "      <td>42</td>\n",
       "    </tr>\n",
       "    <tr>\n",
       "      <th>4</th>\n",
       "      <td>5</td>\n",
       "      <td>78</td>\n",
       "      <td>90</td>\n",
       "    </tr>\n",
       "    <tr>\n",
       "      <th>5</th>\n",
       "      <td>6</td>\n",
       "      <td>98</td>\n",
       "      <td>58</td>\n",
       "    </tr>\n",
       "  </tbody>\n",
       "</table>\n",
       "</div>"
      ],
      "text/plain": [
       "   座號   國文  數學\n",
       "0   1   58  40\n",
       "1   2   48  46\n",
       "2   3   81  89\n",
       "3   4  100  42\n",
       "4   5   78  90\n",
       "5   6   98  58"
      ]
     },
     "execution_count": 15,
     "metadata": {},
     "output_type": "execute_result"
    }
   ],
   "source": [
    "pd.concat([df1,df2], ignore_index=True, join='inner')"
   ]
  },
  {
   "cell_type": "markdown",
   "metadata": {
    "id": "cpS4cBQ3lpVo"
   },
   "source": [
    "## 資料融合"
   ]
  },
  {
   "cell_type": "code",
   "execution_count": 16,
   "metadata": {
    "colab": {
     "base_uri": "https://localhost:8080/",
     "height": 143
    },
    "id": "K2O7ktZOJpWN",
    "outputId": "e084f6b1-41c9-44de-f83c-ff6f5fb556cb"
   },
   "outputs": [],
   "source": [
    "df1 = pd.read_csv('score_1.csv')"
   ]
  },
  {
   "cell_type": "code",
   "execution_count": 17,
   "metadata": {},
   "outputs": [],
   "source": [
    "df2 = pd.read_csv('score_4.csv')"
   ]
  },
  {
   "cell_type": "code",
   "execution_count": 18,
   "metadata": {},
   "outputs": [
    {
     "data": {
      "text/html": [
       "<div>\n",
       "<style scoped>\n",
       "    .dataframe tbody tr th:only-of-type {\n",
       "        vertical-align: middle;\n",
       "    }\n",
       "\n",
       "    .dataframe tbody tr th {\n",
       "        vertical-align: top;\n",
       "    }\n",
       "\n",
       "    .dataframe thead th {\n",
       "        text-align: right;\n",
       "    }\n",
       "</style>\n",
       "<table border=\"1\" class=\"dataframe\">\n",
       "  <thead>\n",
       "    <tr style=\"text-align: right;\">\n",
       "      <th></th>\n",
       "      <th>座號</th>\n",
       "      <th>國文</th>\n",
       "      <th>數學</th>\n",
       "      <th>自然</th>\n",
       "      <th>英文</th>\n",
       "      <th>社會</th>\n",
       "      <th>公民</th>\n",
       "    </tr>\n",
       "  </thead>\n",
       "  <tbody>\n",
       "    <tr>\n",
       "      <th>0</th>\n",
       "      <td>1</td>\n",
       "      <td>58</td>\n",
       "      <td>40</td>\n",
       "      <td>45</td>\n",
       "      <td>63</td>\n",
       "      <td>72</td>\n",
       "      <td>96</td>\n",
       "    </tr>\n",
       "    <tr>\n",
       "      <th>1</th>\n",
       "      <td>2</td>\n",
       "      <td>48</td>\n",
       "      <td>46</td>\n",
       "      <td>55</td>\n",
       "      <td>52</td>\n",
       "      <td>50</td>\n",
       "      <td>71</td>\n",
       "    </tr>\n",
       "    <tr>\n",
       "      <th>2</th>\n",
       "      <td>3</td>\n",
       "      <td>81</td>\n",
       "      <td>89</td>\n",
       "      <td>74</td>\n",
       "      <td>46</td>\n",
       "      <td>71</td>\n",
       "      <td>59</td>\n",
       "    </tr>\n",
       "  </tbody>\n",
       "</table>\n",
       "</div>"
      ],
      "text/plain": [
       "   座號  國文  數學  自然  英文  社會  公民\n",
       "0   1  58  40  45  63  72  96\n",
       "1   2  48  46  55  52  50  71\n",
       "2   3  81  89  74  46  71  59"
      ]
     },
     "execution_count": 18,
     "metadata": {},
     "output_type": "execute_result"
    }
   ],
   "source": [
    "pd.merge(df1,df2)"
   ]
  },
  {
   "cell_type": "code",
   "execution_count": 19,
   "metadata": {
    "colab": {
     "base_uri": "https://localhost:8080/",
     "height": 206
    },
    "id": "vxbE1db0Nxe9",
    "outputId": "63bf32a9-599d-4fe5-d80f-8be86064d8ee"
   },
   "outputs": [],
   "source": [
    "df1 = pd.read_csv('score_1.csv')"
   ]
  },
  {
   "cell_type": "code",
   "execution_count": 20,
   "metadata": {},
   "outputs": [],
   "source": [
    "df2 = pd.read_csv('score_4.csv')"
   ]
  },
  {
   "cell_type": "code",
   "execution_count": 21,
   "metadata": {},
   "outputs": [
    {
     "data": {
      "text/html": [
       "<div>\n",
       "<style scoped>\n",
       "    .dataframe tbody tr th:only-of-type {\n",
       "        vertical-align: middle;\n",
       "    }\n",
       "\n",
       "    .dataframe tbody tr th {\n",
       "        vertical-align: top;\n",
       "    }\n",
       "\n",
       "    .dataframe thead th {\n",
       "        text-align: right;\n",
       "    }\n",
       "</style>\n",
       "<table border=\"1\" class=\"dataframe\">\n",
       "  <thead>\n",
       "    <tr style=\"text-align: right;\">\n",
       "      <th></th>\n",
       "      <th>座號</th>\n",
       "      <th>國文</th>\n",
       "      <th>數學</th>\n",
       "      <th>自然</th>\n",
       "      <th>英文</th>\n",
       "      <th>社會</th>\n",
       "      <th>公民</th>\n",
       "    </tr>\n",
       "  </thead>\n",
       "  <tbody>\n",
       "    <tr>\n",
       "      <th>0</th>\n",
       "      <td>1</td>\n",
       "      <td>58.0</td>\n",
       "      <td>40.0</td>\n",
       "      <td>45.0</td>\n",
       "      <td>63</td>\n",
       "      <td>72</td>\n",
       "      <td>96</td>\n",
       "    </tr>\n",
       "    <tr>\n",
       "      <th>1</th>\n",
       "      <td>2</td>\n",
       "      <td>48.0</td>\n",
       "      <td>46.0</td>\n",
       "      <td>55.0</td>\n",
       "      <td>52</td>\n",
       "      <td>50</td>\n",
       "      <td>71</td>\n",
       "    </tr>\n",
       "    <tr>\n",
       "      <th>2</th>\n",
       "      <td>3</td>\n",
       "      <td>81.0</td>\n",
       "      <td>89.0</td>\n",
       "      <td>74.0</td>\n",
       "      <td>46</td>\n",
       "      <td>71</td>\n",
       "      <td>59</td>\n",
       "    </tr>\n",
       "    <tr>\n",
       "      <th>3</th>\n",
       "      <td>4</td>\n",
       "      <td>NaN</td>\n",
       "      <td>NaN</td>\n",
       "      <td>NaN</td>\n",
       "      <td>96</td>\n",
       "      <td>48</td>\n",
       "      <td>43</td>\n",
       "    </tr>\n",
       "    <tr>\n",
       "      <th>4</th>\n",
       "      <td>5</td>\n",
       "      <td>NaN</td>\n",
       "      <td>NaN</td>\n",
       "      <td>NaN</td>\n",
       "      <td>72</td>\n",
       "      <td>53</td>\n",
       "      <td>64</td>\n",
       "    </tr>\n",
       "  </tbody>\n",
       "</table>\n",
       "</div>"
      ],
      "text/plain": [
       "   座號    國文    數學    自然  英文  社會  公民\n",
       "0   1  58.0  40.0  45.0  63  72  96\n",
       "1   2  48.0  46.0  55.0  52  50  71\n",
       "2   3  81.0  89.0  74.0  46  71  59\n",
       "3   4   NaN   NaN   NaN  96  48  43\n",
       "4   5   NaN   NaN   NaN  72  53  64"
      ]
     },
     "execution_count": 21,
     "metadata": {},
     "output_type": "execute_result"
    }
   ],
   "source": [
    "pd.merge(df1,df2, how='outer')"
   ]
  },
  {
   "cell_type": "markdown",
   "metadata": {},
   "source": [
    "## 請用上周教的方法將NaN補為該科平均值,再次印出表格"
   ]
  },
  {
   "cell_type": "code",
   "execution_count": 22,
   "metadata": {
    "colab": {
     "base_uri": "https://localhost:8080/",
     "height": 206
    },
    "id": "Mju7Dsl_PHd9",
    "outputId": "7b75946d-d2ff-494e-b08d-8b2173c347c2"
   },
   "outputs": [],
   "source": [
    "df1 = pd.read_csv('score_1.csv')"
   ]
  },
  {
   "cell_type": "code",
   "execution_count": 23,
   "metadata": {},
   "outputs": [],
   "source": [
    "df2 = pd.read_csv('score_5.csv')"
   ]
  },
  {
   "cell_type": "code",
   "execution_count": 24,
   "metadata": {},
   "outputs": [
    {
     "data": {
      "text/html": [
       "<div>\n",
       "<style scoped>\n",
       "    .dataframe tbody tr th:only-of-type {\n",
       "        vertical-align: middle;\n",
       "    }\n",
       "\n",
       "    .dataframe tbody tr th {\n",
       "        vertical-align: top;\n",
       "    }\n",
       "\n",
       "    .dataframe thead th {\n",
       "        text-align: right;\n",
       "    }\n",
       "</style>\n",
       "<table border=\"1\" class=\"dataframe\">\n",
       "  <thead>\n",
       "    <tr style=\"text-align: right;\">\n",
       "      <th></th>\n",
       "      <th>座號</th>\n",
       "      <th>國文</th>\n",
       "      <th>數學</th>\n",
       "      <th>自然</th>\n",
       "      <th>英文</th>\n",
       "      <th>社會</th>\n",
       "      <th>公民</th>\n",
       "    </tr>\n",
       "  </thead>\n",
       "  <tbody>\n",
       "    <tr>\n",
       "      <th>0</th>\n",
       "      <td>1</td>\n",
       "      <td>58</td>\n",
       "      <td>40</td>\n",
       "      <td>45</td>\n",
       "      <td>63</td>\n",
       "      <td>72</td>\n",
       "      <td>96</td>\n",
       "    </tr>\n",
       "    <tr>\n",
       "      <th>1</th>\n",
       "      <td>1</td>\n",
       "      <td>58</td>\n",
       "      <td>40</td>\n",
       "      <td>45</td>\n",
       "      <td>96</td>\n",
       "      <td>48</td>\n",
       "      <td>43</td>\n",
       "    </tr>\n",
       "    <tr>\n",
       "      <th>2</th>\n",
       "      <td>1</td>\n",
       "      <td>58</td>\n",
       "      <td>40</td>\n",
       "      <td>45</td>\n",
       "      <td>72</td>\n",
       "      <td>53</td>\n",
       "      <td>64</td>\n",
       "    </tr>\n",
       "    <tr>\n",
       "      <th>3</th>\n",
       "      <td>2</td>\n",
       "      <td>48</td>\n",
       "      <td>46</td>\n",
       "      <td>55</td>\n",
       "      <td>52</td>\n",
       "      <td>50</td>\n",
       "      <td>71</td>\n",
       "    </tr>\n",
       "    <tr>\n",
       "      <th>4</th>\n",
       "      <td>3</td>\n",
       "      <td>81</td>\n",
       "      <td>89</td>\n",
       "      <td>74</td>\n",
       "      <td>46</td>\n",
       "      <td>71</td>\n",
       "      <td>59</td>\n",
       "    </tr>\n",
       "  </tbody>\n",
       "</table>\n",
       "</div>"
      ],
      "text/plain": [
       "   座號  國文  數學  自然  英文  社會  公民\n",
       "0   1  58  40  45  63  72  96\n",
       "1   1  58  40  45  96  48  43\n",
       "2   1  58  40  45  72  53  64\n",
       "3   2  48  46  55  52  50  71\n",
       "4   3  81  89  74  46  71  59"
      ]
     },
     "execution_count": 24,
     "metadata": {},
     "output_type": "execute_result"
    }
   ],
   "source": [
    "pd.merge(df1,df2)"
   ]
  },
  {
   "cell_type": "code",
   "execution_count": 25,
   "metadata": {
    "colab": {
     "base_uri": "https://localhost:8080/",
     "height": 143
    },
    "id": "lYewkdlNTI3F",
    "outputId": "038d703c-8abc-431a-a70e-c88e3213cbfc"
   },
   "outputs": [],
   "source": [
    "df1 = pd.read_csv('score_1.csv')"
   ]
  },
  {
   "cell_type": "code",
   "execution_count": 26,
   "metadata": {},
   "outputs": [],
   "source": [
    "df2 = pd.read_csv('score_6.csv')"
   ]
  },
  {
   "cell_type": "code",
   "execution_count": 27,
   "metadata": {},
   "outputs": [
    {
     "data": {
      "text/html": [
       "<div>\n",
       "<style scoped>\n",
       "    .dataframe tbody tr th:only-of-type {\n",
       "        vertical-align: middle;\n",
       "    }\n",
       "\n",
       "    .dataframe tbody tr th {\n",
       "        vertical-align: top;\n",
       "    }\n",
       "\n",
       "    .dataframe thead th {\n",
       "        text-align: right;\n",
       "    }\n",
       "</style>\n",
       "<table border=\"1\" class=\"dataframe\">\n",
       "  <thead>\n",
       "    <tr style=\"text-align: right;\">\n",
       "      <th></th>\n",
       "      <th>座號</th>\n",
       "      <th>國文</th>\n",
       "      <th>數學_x</th>\n",
       "      <th>自然</th>\n",
       "      <th>英文</th>\n",
       "      <th>數學_y</th>\n",
       "      <th>公民</th>\n",
       "    </tr>\n",
       "  </thead>\n",
       "  <tbody>\n",
       "    <tr>\n",
       "      <th>0</th>\n",
       "      <td>1</td>\n",
       "      <td>58</td>\n",
       "      <td>40</td>\n",
       "      <td>45</td>\n",
       "      <td>63</td>\n",
       "      <td>72</td>\n",
       "      <td>96</td>\n",
       "    </tr>\n",
       "    <tr>\n",
       "      <th>1</th>\n",
       "      <td>2</td>\n",
       "      <td>48</td>\n",
       "      <td>46</td>\n",
       "      <td>55</td>\n",
       "      <td>52</td>\n",
       "      <td>50</td>\n",
       "      <td>71</td>\n",
       "    </tr>\n",
       "    <tr>\n",
       "      <th>2</th>\n",
       "      <td>3</td>\n",
       "      <td>81</td>\n",
       "      <td>89</td>\n",
       "      <td>74</td>\n",
       "      <td>46</td>\n",
       "      <td>71</td>\n",
       "      <td>59</td>\n",
       "    </tr>\n",
       "  </tbody>\n",
       "</table>\n",
       "</div>"
      ],
      "text/plain": [
       "   座號  國文  數學_x  自然  英文  數學_y  公民\n",
       "0   1  58    40  45  63    72  96\n",
       "1   2  48    46  55  52    50  71\n",
       "2   3  81    89  74  46    71  59"
      ]
     },
     "execution_count": 27,
     "metadata": {},
     "output_type": "execute_result"
    }
   ],
   "source": [
    "pd.merge(df1,df2, left_on='座號', right_on='座號')"
   ]
  },
  {
   "cell_type": "code",
   "execution_count": 29,
   "metadata": {
    "colab": {
     "base_uri": "https://localhost:8080/",
     "height": 143
    },
    "id": "dxv5Z90wT7yz",
    "outputId": "6b090b62-a86d-40c9-ba48-6c13041b795a"
   },
   "outputs": [],
   "source": [
    "df1 = pd.read_csv('score_1.csv')"
   ]
  },
  {
   "cell_type": "code",
   "execution_count": 30,
   "metadata": {
    "colab": {
     "base_uri": "https://localhost:8080/",
     "height": 143
    },
    "id": "k7wF9DqTUg3P",
    "outputId": "279e079f-effd-472a-a679-0680d0729d75"
   },
   "outputs": [],
   "source": [
    "df2 = pd.read_csv('score_6.csv')"
   ]
  },
  {
   "cell_type": "code",
   "execution_count": 31,
   "metadata": {},
   "outputs": [
    {
     "data": {
      "text/html": [
       "<div>\n",
       "<style scoped>\n",
       "    .dataframe tbody tr th:only-of-type {\n",
       "        vertical-align: middle;\n",
       "    }\n",
       "\n",
       "    .dataframe tbody tr th {\n",
       "        vertical-align: top;\n",
       "    }\n",
       "\n",
       "    .dataframe thead th {\n",
       "        text-align: right;\n",
       "    }\n",
       "</style>\n",
       "<table border=\"1\" class=\"dataframe\">\n",
       "  <thead>\n",
       "    <tr style=\"text-align: right;\">\n",
       "      <th></th>\n",
       "      <th>座號</th>\n",
       "      <th>國文</th>\n",
       "      <th>數學_自</th>\n",
       "      <th>自然</th>\n",
       "      <th>英文</th>\n",
       "      <th>數學_社</th>\n",
       "      <th>公民</th>\n",
       "    </tr>\n",
       "  </thead>\n",
       "  <tbody>\n",
       "    <tr>\n",
       "      <th>0</th>\n",
       "      <td>1</td>\n",
       "      <td>58</td>\n",
       "      <td>40</td>\n",
       "      <td>45</td>\n",
       "      <td>63</td>\n",
       "      <td>72</td>\n",
       "      <td>96</td>\n",
       "    </tr>\n",
       "    <tr>\n",
       "      <th>1</th>\n",
       "      <td>2</td>\n",
       "      <td>48</td>\n",
       "      <td>46</td>\n",
       "      <td>55</td>\n",
       "      <td>52</td>\n",
       "      <td>50</td>\n",
       "      <td>71</td>\n",
       "    </tr>\n",
       "    <tr>\n",
       "      <th>2</th>\n",
       "      <td>3</td>\n",
       "      <td>81</td>\n",
       "      <td>89</td>\n",
       "      <td>74</td>\n",
       "      <td>46</td>\n",
       "      <td>71</td>\n",
       "      <td>59</td>\n",
       "    </tr>\n",
       "  </tbody>\n",
       "</table>\n",
       "</div>"
      ],
      "text/plain": [
       "   座號  國文  數學_自  自然  英文  數學_社  公民\n",
       "0   1  58    40  45  63    72  96\n",
       "1   2  48    46  55  52    50  71\n",
       "2   3  81    89  74  46    71  59"
      ]
     },
     "execution_count": 31,
     "metadata": {},
     "output_type": "execute_result"
    }
   ],
   "source": [
    "pd.merge(df1, df2\n",
    "         , left_on='座號'\n",
    "         , right_on='座號'\n",
    "         , suffixes=['_自','_社'])"
   ]
  },
  {
   "cell_type": "markdown",
   "metadata": {
    "id": "6910NUm3lyKQ"
   },
   "source": [
    "# 樞紐分析表"
   ]
  },
  {
   "cell_type": "code",
   "execution_count": 32,
   "metadata": {
    "colab": {
     "base_uri": "https://localhost:8080/",
     "height": 175
    },
    "id": "jZNTqALSaOg7",
    "outputId": "01928003-c9aa-48bd-ed74-c1e63a668581"
   },
   "outputs": [],
   "source": [
    "df1 = pd.read_csv('商品銷售表.csv')"
   ]
  },
  {
   "cell_type": "code",
   "execution_count": 33,
   "metadata": {},
   "outputs": [
    {
     "data": {
      "text/html": [
       "<div>\n",
       "<style scoped>\n",
       "    .dataframe tbody tr th:only-of-type {\n",
       "        vertical-align: middle;\n",
       "    }\n",
       "\n",
       "    .dataframe tbody tr th {\n",
       "        vertical-align: top;\n",
       "    }\n",
       "\n",
       "    .dataframe thead th {\n",
       "        text-align: right;\n",
       "    }\n",
       "</style>\n",
       "<table border=\"1\" class=\"dataframe\">\n",
       "  <thead>\n",
       "    <tr style=\"text-align: right;\">\n",
       "      <th></th>\n",
       "      <th>價格</th>\n",
       "      <th>數量</th>\n",
       "    </tr>\n",
       "    <tr>\n",
       "      <th>業務員</th>\n",
       "      <th></th>\n",
       "      <th></th>\n",
       "    </tr>\n",
       "  </thead>\n",
       "  <tbody>\n",
       "    <tr>\n",
       "      <th>張三安</th>\n",
       "      <td>14890.196078</td>\n",
       "      <td>155.607843</td>\n",
       "    </tr>\n",
       "    <tr>\n",
       "      <th>李四友</th>\n",
       "      <td>15815.789474</td>\n",
       "      <td>171.473684</td>\n",
       "    </tr>\n",
       "    <tr>\n",
       "      <th>王五信</th>\n",
       "      <td>15000.000000</td>\n",
       "      <td>174.266667</td>\n",
       "    </tr>\n",
       "  </tbody>\n",
       "</table>\n",
       "</div>"
      ],
      "text/plain": [
       "               價格          數量\n",
       "業務員                          \n",
       "張三安  14890.196078  155.607843\n",
       "李四友  15815.789474  171.473684\n",
       "王五信  15000.000000  174.266667"
      ]
     },
     "execution_count": 33,
     "metadata": {},
     "output_type": "execute_result"
    }
   ],
   "source": [
    "pd.pivot_table(df1, index=['業務員'])"
   ]
  },
  {
   "cell_type": "markdown",
   "metadata": {},
   "source": [
    "## 請將價格與數量四捨五入至整數,再次印出表格"
   ]
  },
  {
   "cell_type": "code",
   "execution_count": 34,
   "metadata": {
    "colab": {
     "base_uri": "https://localhost:8080/",
     "height": 363
    },
    "id": "KnlF8FOObOjC",
    "outputId": "11e32f47-d872-4288-d752-13f1e83fc351"
   },
   "outputs": [],
   "source": [
    "df1 = pd.read_csv('商品銷售表.csv')"
   ]
  },
  {
   "cell_type": "code",
   "execution_count": 35,
   "metadata": {},
   "outputs": [
    {
     "data": {
      "text/html": [
       "<div>\n",
       "<style scoped>\n",
       "    .dataframe tbody tr th:only-of-type {\n",
       "        vertical-align: middle;\n",
       "    }\n",
       "\n",
       "    .dataframe tbody tr th {\n",
       "        vertical-align: top;\n",
       "    }\n",
       "\n",
       "    .dataframe thead th {\n",
       "        text-align: right;\n",
       "    }\n",
       "</style>\n",
       "<table border=\"1\" class=\"dataframe\">\n",
       "  <thead>\n",
       "    <tr style=\"text-align: right;\">\n",
       "      <th></th>\n",
       "      <th></th>\n",
       "      <th>價格</th>\n",
       "      <th>數量</th>\n",
       "    </tr>\n",
       "    <tr>\n",
       "      <th>業務員</th>\n",
       "      <th>商品</th>\n",
       "      <th></th>\n",
       "      <th></th>\n",
       "    </tr>\n",
       "  </thead>\n",
       "  <tbody>\n",
       "    <tr>\n",
       "      <th rowspan=\"3\" valign=\"top\">張三安</th>\n",
       "      <th>冰箱</th>\n",
       "      <td>14472.000000</td>\n",
       "      <td>143.320000</td>\n",
       "    </tr>\n",
       "    <tr>\n",
       "      <th>筆電</th>\n",
       "      <td>15877.777778</td>\n",
       "      <td>181.444444</td>\n",
       "    </tr>\n",
       "    <tr>\n",
       "      <th>電視</th>\n",
       "      <td>14982.352941</td>\n",
       "      <td>160.000000</td>\n",
       "    </tr>\n",
       "    <tr>\n",
       "      <th rowspan=\"3\" valign=\"top\">李四友</th>\n",
       "      <th>冰箱</th>\n",
       "      <td>14775.000000</td>\n",
       "      <td>197.750000</td>\n",
       "    </tr>\n",
       "    <tr>\n",
       "      <th>筆電</th>\n",
       "      <td>15620.000000</td>\n",
       "      <td>197.400000</td>\n",
       "    </tr>\n",
       "    <tr>\n",
       "      <th>電視</th>\n",
       "      <td>16330.000000</td>\n",
       "      <td>148.000000</td>\n",
       "    </tr>\n",
       "    <tr>\n",
       "      <th rowspan=\"3\" valign=\"top\">王五信</th>\n",
       "      <th>冰箱</th>\n",
       "      <td>15293.333333</td>\n",
       "      <td>178.066667</td>\n",
       "    </tr>\n",
       "    <tr>\n",
       "      <th>筆電</th>\n",
       "      <td>14262.500000</td>\n",
       "      <td>205.625000</td>\n",
       "    </tr>\n",
       "    <tr>\n",
       "      <th>電視</th>\n",
       "      <td>15214.285714</td>\n",
       "      <td>130.285714</td>\n",
       "    </tr>\n",
       "  </tbody>\n",
       "</table>\n",
       "</div>"
      ],
      "text/plain": [
       "                  價格          數量\n",
       "業務員 商品                          \n",
       "張三安 冰箱  14472.000000  143.320000\n",
       "    筆電  15877.777778  181.444444\n",
       "    電視  14982.352941  160.000000\n",
       "李四友 冰箱  14775.000000  197.750000\n",
       "    筆電  15620.000000  197.400000\n",
       "    電視  16330.000000  148.000000\n",
       "王五信 冰箱  15293.333333  178.066667\n",
       "    筆電  14262.500000  205.625000\n",
       "    電視  15214.285714  130.285714"
      ]
     },
     "execution_count": 35,
     "metadata": {},
     "output_type": "execute_result"
    }
   ],
   "source": [
    "pd.pivot_table(df1, index=['業務員', '商品'])"
   ]
  },
  {
   "cell_type": "markdown",
   "metadata": {},
   "source": [
    "## 請將價格與數量四捨五入至整數,再次印出表格"
   ]
  },
  {
   "cell_type": "code",
   "execution_count": 36,
   "metadata": {
    "colab": {
     "base_uri": "https://localhost:8080/",
     "height": 206
    },
    "id": "i7L2P0oKb6y2",
    "outputId": "c0594dcd-c604-41c8-9362-1a4d7e15d73d"
   },
   "outputs": [],
   "source": [
    "df1 = pd.read_csv('商品銷售表.csv')"
   ]
  },
  {
   "cell_type": "code",
   "execution_count": 37,
   "metadata": {},
   "outputs": [
    {
     "data": {
      "text/html": [
       "<div>\n",
       "<style scoped>\n",
       "    .dataframe tbody tr th:only-of-type {\n",
       "        vertical-align: middle;\n",
       "    }\n",
       "\n",
       "    .dataframe tbody tr th {\n",
       "        vertical-align: top;\n",
       "    }\n",
       "\n",
       "    .dataframe thead tr th {\n",
       "        text-align: left;\n",
       "    }\n",
       "\n",
       "    .dataframe thead tr:last-of-type th {\n",
       "        text-align: right;\n",
       "    }\n",
       "</style>\n",
       "<table border=\"1\" class=\"dataframe\">\n",
       "  <thead>\n",
       "    <tr>\n",
       "      <th></th>\n",
       "      <th colspan=\"3\" halign=\"left\">價格</th>\n",
       "      <th colspan=\"3\" halign=\"left\">數量</th>\n",
       "    </tr>\n",
       "    <tr>\n",
       "      <th>商品</th>\n",
       "      <th>冰箱</th>\n",
       "      <th>筆電</th>\n",
       "      <th>電視</th>\n",
       "      <th>冰箱</th>\n",
       "      <th>筆電</th>\n",
       "      <th>電視</th>\n",
       "    </tr>\n",
       "    <tr>\n",
       "      <th>業務員</th>\n",
       "      <th></th>\n",
       "      <th></th>\n",
       "      <th></th>\n",
       "      <th></th>\n",
       "      <th></th>\n",
       "      <th></th>\n",
       "    </tr>\n",
       "  </thead>\n",
       "  <tbody>\n",
       "    <tr>\n",
       "      <th>張三安</th>\n",
       "      <td>14472.000000</td>\n",
       "      <td>15877.777778</td>\n",
       "      <td>14982.352941</td>\n",
       "      <td>143.320000</td>\n",
       "      <td>181.444444</td>\n",
       "      <td>160.000000</td>\n",
       "    </tr>\n",
       "    <tr>\n",
       "      <th>李四友</th>\n",
       "      <td>14775.000000</td>\n",
       "      <td>15620.000000</td>\n",
       "      <td>16330.000000</td>\n",
       "      <td>197.750000</td>\n",
       "      <td>197.400000</td>\n",
       "      <td>148.000000</td>\n",
       "    </tr>\n",
       "    <tr>\n",
       "      <th>王五信</th>\n",
       "      <td>15293.333333</td>\n",
       "      <td>14262.500000</td>\n",
       "      <td>15214.285714</td>\n",
       "      <td>178.066667</td>\n",
       "      <td>205.625000</td>\n",
       "      <td>130.285714</td>\n",
       "    </tr>\n",
       "  </tbody>\n",
       "</table>\n",
       "</div>"
      ],
      "text/plain": [
       "               價格                                      數量              \\\n",
       "商品             冰箱            筆電            電視          冰箱          筆電   \n",
       "業務員                                                                     \n",
       "張三安  14472.000000  15877.777778  14982.352941  143.320000  181.444444   \n",
       "李四友  14775.000000  15620.000000  16330.000000  197.750000  197.400000   \n",
       "王五信  15293.333333  14262.500000  15214.285714  178.066667  205.625000   \n",
       "\n",
       "                 \n",
       "商品           電視  \n",
       "業務員              \n",
       "張三安  160.000000  \n",
       "李四友  148.000000  \n",
       "王五信  130.285714  "
      ]
     },
     "execution_count": 37,
     "metadata": {},
     "output_type": "execute_result"
    }
   ],
   "source": [
    "pd.pivot_table(df1, index=['業務員'], columns=['商品'])"
   ]
  },
  {
   "cell_type": "markdown",
   "metadata": {},
   "source": [
    "## 請將價格與數量四捨五入至整數,再次印出表格"
   ]
  },
  {
   "cell_type": "code",
   "execution_count": 38,
   "metadata": {
    "colab": {
     "base_uri": "https://localhost:8080/",
     "height": 206
    },
    "id": "u3rFZXlKdGYZ",
    "outputId": "40ded7fd-f16f-4857-98fd-9c8b100ac38a"
   },
   "outputs": [],
   "source": [
    "df1 = pd.read_csv('商品銷售表.csv')"
   ]
  },
  {
   "cell_type": "code",
   "execution_count": 39,
   "metadata": {},
   "outputs": [
    {
     "data": {
      "text/html": [
       "<div>\n",
       "<style scoped>\n",
       "    .dataframe tbody tr th:only-of-type {\n",
       "        vertical-align: middle;\n",
       "    }\n",
       "\n",
       "    .dataframe tbody tr th {\n",
       "        vertical-align: top;\n",
       "    }\n",
       "\n",
       "    .dataframe thead tr th {\n",
       "        text-align: left;\n",
       "    }\n",
       "\n",
       "    .dataframe thead tr:last-of-type th {\n",
       "        text-align: right;\n",
       "    }\n",
       "</style>\n",
       "<table border=\"1\" class=\"dataframe\">\n",
       "  <thead>\n",
       "    <tr>\n",
       "      <th></th>\n",
       "      <th colspan=\"3\" halign=\"left\">數量</th>\n",
       "    </tr>\n",
       "    <tr>\n",
       "      <th>商品</th>\n",
       "      <th>冰箱</th>\n",
       "      <th>筆電</th>\n",
       "      <th>電視</th>\n",
       "    </tr>\n",
       "    <tr>\n",
       "      <th>業務員</th>\n",
       "      <th></th>\n",
       "      <th></th>\n",
       "      <th></th>\n",
       "    </tr>\n",
       "  </thead>\n",
       "  <tbody>\n",
       "    <tr>\n",
       "      <th>張三安</th>\n",
       "      <td>143.320000</td>\n",
       "      <td>181.444444</td>\n",
       "      <td>160.000000</td>\n",
       "    </tr>\n",
       "    <tr>\n",
       "      <th>李四友</th>\n",
       "      <td>197.750000</td>\n",
       "      <td>197.400000</td>\n",
       "      <td>148.000000</td>\n",
       "    </tr>\n",
       "    <tr>\n",
       "      <th>王五信</th>\n",
       "      <td>178.066667</td>\n",
       "      <td>205.625000</td>\n",
       "      <td>130.285714</td>\n",
       "    </tr>\n",
       "  </tbody>\n",
       "</table>\n",
       "</div>"
      ],
      "text/plain": [
       "             數量                        \n",
       "商品           冰箱          筆電          電視\n",
       "業務員                                    \n",
       "張三安  143.320000  181.444444  160.000000\n",
       "李四友  197.750000  197.400000  148.000000\n",
       "王五信  178.066667  205.625000  130.285714"
      ]
     },
     "execution_count": 39,
     "metadata": {},
     "output_type": "execute_result"
    }
   ],
   "source": [
    "pd.pivot_table(df1, index=['業務員']\n",
    "               , columns=['商品'], values=['數量'])"
   ]
  },
  {
   "cell_type": "markdown",
   "metadata": {},
   "source": [
    "## 請將數量四捨五入至整數,再次印出表格"
   ]
  },
  {
   "cell_type": "code",
   "execution_count": 40,
   "metadata": {
    "colab": {
     "base_uri": "https://localhost:8080/",
     "height": 237
    },
    "id": "Sv3SI4BxdnvZ",
    "outputId": "89f71670-eb56-4265-8334-869f0845fb18"
   },
   "outputs": [],
   "source": [
    "df1 = pd.read_csv('商品銷售表.csv')"
   ]
  },
  {
   "cell_type": "code",
   "execution_count": 41,
   "metadata": {},
   "outputs": [
    {
     "data": {
      "text/html": [
       "<div>\n",
       "<style scoped>\n",
       "    .dataframe tbody tr th:only-of-type {\n",
       "        vertical-align: middle;\n",
       "    }\n",
       "\n",
       "    .dataframe tbody tr th {\n",
       "        vertical-align: top;\n",
       "    }\n",
       "\n",
       "    .dataframe thead tr th {\n",
       "        text-align: left;\n",
       "    }\n",
       "\n",
       "    .dataframe thead tr:last-of-type th {\n",
       "        text-align: right;\n",
       "    }\n",
       "</style>\n",
       "<table border=\"1\" class=\"dataframe\">\n",
       "  <thead>\n",
       "    <tr>\n",
       "      <th></th>\n",
       "      <th colspan=\"4\" halign=\"left\">數量</th>\n",
       "    </tr>\n",
       "    <tr>\n",
       "      <th>商品</th>\n",
       "      <th>冰箱</th>\n",
       "      <th>筆電</th>\n",
       "      <th>電視</th>\n",
       "      <th>All</th>\n",
       "    </tr>\n",
       "    <tr>\n",
       "      <th>業務員</th>\n",
       "      <th></th>\n",
       "      <th></th>\n",
       "      <th></th>\n",
       "      <th></th>\n",
       "    </tr>\n",
       "  </thead>\n",
       "  <tbody>\n",
       "    <tr>\n",
       "      <th>張三安</th>\n",
       "      <td>143.320000</td>\n",
       "      <td>181.444444</td>\n",
       "      <td>160.000000</td>\n",
       "      <td>155.607843</td>\n",
       "    </tr>\n",
       "    <tr>\n",
       "      <th>李四友</th>\n",
       "      <td>197.750000</td>\n",
       "      <td>197.400000</td>\n",
       "      <td>148.000000</td>\n",
       "      <td>171.473684</td>\n",
       "    </tr>\n",
       "    <tr>\n",
       "      <th>王五信</th>\n",
       "      <td>178.066667</td>\n",
       "      <td>205.625000</td>\n",
       "      <td>130.285714</td>\n",
       "      <td>174.266667</td>\n",
       "    </tr>\n",
       "    <tr>\n",
       "      <th>All</th>\n",
       "      <td>160.113636</td>\n",
       "      <td>193.863636</td>\n",
       "      <td>150.352941</td>\n",
       "      <td>164.220000</td>\n",
       "    </tr>\n",
       "  </tbody>\n",
       "</table>\n",
       "</div>"
      ],
      "text/plain": [
       "             數量                                    \n",
       "商品           冰箱          筆電          電視         All\n",
       "業務員                                                \n",
       "張三安  143.320000  181.444444  160.000000  155.607843\n",
       "李四友  197.750000  197.400000  148.000000  171.473684\n",
       "王五信  178.066667  205.625000  130.285714  174.266667\n",
       "All  160.113636  193.863636  150.352941  164.220000"
      ]
     },
     "execution_count": 41,
     "metadata": {},
     "output_type": "execute_result"
    }
   ],
   "source": [
    "pd.pivot_table(df1, index=['業務員'], columns=['商品']\n",
    "               , values=['數量'], margins=True)"
   ]
  },
  {
   "cell_type": "code",
   "execution_count": 44,
   "metadata": {
    "colab": {
     "base_uri": "https://localhost:8080/",
     "height": 237
    },
    "id": "UV05MgxxeZ4C",
    "outputId": "05dfebbf-3b6f-4062-96d0-7b83dba9ecda"
   },
   "outputs": [
    {
     "data": {
      "text/html": [
       "<div>\n",
       "<style scoped>\n",
       "    .dataframe tbody tr th:only-of-type {\n",
       "        vertical-align: middle;\n",
       "    }\n",
       "\n",
       "    .dataframe tbody tr th {\n",
       "        vertical-align: top;\n",
       "    }\n",
       "\n",
       "    .dataframe thead tr th {\n",
       "        text-align: left;\n",
       "    }\n",
       "\n",
       "    .dataframe thead tr:last-of-type th {\n",
       "        text-align: right;\n",
       "    }\n",
       "</style>\n",
       "<table border=\"1\" class=\"dataframe\">\n",
       "  <thead>\n",
       "    <tr>\n",
       "      <th></th>\n",
       "      <th colspan=\"4\" halign=\"left\">數量</th>\n",
       "    </tr>\n",
       "    <tr>\n",
       "      <th>商品</th>\n",
       "      <th>冰箱</th>\n",
       "      <th>筆電</th>\n",
       "      <th>電視</th>\n",
       "      <th>總計</th>\n",
       "    </tr>\n",
       "    <tr>\n",
       "      <th>業務員</th>\n",
       "      <th></th>\n",
       "      <th></th>\n",
       "      <th></th>\n",
       "      <th></th>\n",
       "    </tr>\n",
       "  </thead>\n",
       "  <tbody>\n",
       "    <tr>\n",
       "      <th>張三安</th>\n",
       "      <td>143.320000</td>\n",
       "      <td>181.444444</td>\n",
       "      <td>160.000000</td>\n",
       "      <td>155.607843</td>\n",
       "    </tr>\n",
       "    <tr>\n",
       "      <th>李四友</th>\n",
       "      <td>197.750000</td>\n",
       "      <td>197.400000</td>\n",
       "      <td>148.000000</td>\n",
       "      <td>171.473684</td>\n",
       "    </tr>\n",
       "    <tr>\n",
       "      <th>王五信</th>\n",
       "      <td>178.066667</td>\n",
       "      <td>205.625000</td>\n",
       "      <td>130.285714</td>\n",
       "      <td>174.266667</td>\n",
       "    </tr>\n",
       "    <tr>\n",
       "      <th>總計</th>\n",
       "      <td>160.113636</td>\n",
       "      <td>193.863636</td>\n",
       "      <td>150.352941</td>\n",
       "      <td>164.220000</td>\n",
       "    </tr>\n",
       "  </tbody>\n",
       "</table>\n",
       "</div>"
      ],
      "text/plain": [
       "             數量                                    \n",
       "商品           冰箱          筆電          電視          總計\n",
       "業務員                                                \n",
       "張三安  143.320000  181.444444  160.000000  155.607843\n",
       "李四友  197.750000  197.400000  148.000000  171.473684\n",
       "王五信  178.066667  205.625000  130.285714  174.266667\n",
       "總計   160.113636  193.863636  150.352941  164.220000"
      ]
     },
     "execution_count": 44,
     "metadata": {},
     "output_type": "execute_result"
    }
   ],
   "source": [
    "pd.pivot_table(df1, index=['業務員'], columns=['商品']\n",
    "               , values=['數量'], margins=True\n",
    "               , margins_name='總計')"
   ]
  },
  {
   "cell_type": "code",
   "execution_count": 45,
   "metadata": {},
   "outputs": [
    {
     "data": {
      "text/html": [
       "<div>\n",
       "<style scoped>\n",
       "    .dataframe tbody tr th:only-of-type {\n",
       "        vertical-align: middle;\n",
       "    }\n",
       "\n",
       "    .dataframe tbody tr th {\n",
       "        vertical-align: top;\n",
       "    }\n",
       "\n",
       "    .dataframe thead tr th {\n",
       "        text-align: left;\n",
       "    }\n",
       "\n",
       "    .dataframe thead tr:last-of-type th {\n",
       "        text-align: right;\n",
       "    }\n",
       "</style>\n",
       "<table border=\"1\" class=\"dataframe\">\n",
       "  <thead>\n",
       "    <tr>\n",
       "      <th></th>\n",
       "      <th colspan=\"3\" halign=\"left\">max</th>\n",
       "      <th colspan=\"3\" halign=\"left\">min</th>\n",
       "      <th colspan=\"3\" halign=\"left\">sum</th>\n",
       "    </tr>\n",
       "    <tr>\n",
       "      <th></th>\n",
       "      <th colspan=\"3\" halign=\"left\">數量</th>\n",
       "      <th colspan=\"3\" halign=\"left\">數量</th>\n",
       "      <th colspan=\"3\" halign=\"left\">數量</th>\n",
       "    </tr>\n",
       "    <tr>\n",
       "      <th>商品</th>\n",
       "      <th>冰箱</th>\n",
       "      <th>筆電</th>\n",
       "      <th>電視</th>\n",
       "      <th>冰箱</th>\n",
       "      <th>筆電</th>\n",
       "      <th>電視</th>\n",
       "      <th>冰箱</th>\n",
       "      <th>筆電</th>\n",
       "      <th>電視</th>\n",
       "    </tr>\n",
       "    <tr>\n",
       "      <th>業務員</th>\n",
       "      <th></th>\n",
       "      <th></th>\n",
       "      <th></th>\n",
       "      <th></th>\n",
       "      <th></th>\n",
       "      <th></th>\n",
       "      <th></th>\n",
       "      <th></th>\n",
       "      <th></th>\n",
       "    </tr>\n",
       "  </thead>\n",
       "  <tbody>\n",
       "    <tr>\n",
       "      <th>張三安</th>\n",
       "      <td>285</td>\n",
       "      <td>284</td>\n",
       "      <td>242</td>\n",
       "      <td>53</td>\n",
       "      <td>60</td>\n",
       "      <td>32</td>\n",
       "      <td>3583</td>\n",
       "      <td>1633</td>\n",
       "      <td>2720</td>\n",
       "    </tr>\n",
       "    <tr>\n",
       "      <th>李四友</th>\n",
       "      <td>272</td>\n",
       "      <td>294</td>\n",
       "      <td>287</td>\n",
       "      <td>84</td>\n",
       "      <td>44</td>\n",
       "      <td>65</td>\n",
       "      <td>791</td>\n",
       "      <td>987</td>\n",
       "      <td>1480</td>\n",
       "    </tr>\n",
       "    <tr>\n",
       "      <th>王五信</th>\n",
       "      <td>297</td>\n",
       "      <td>294</td>\n",
       "      <td>191</td>\n",
       "      <td>37</td>\n",
       "      <td>115</td>\n",
       "      <td>46</td>\n",
       "      <td>2671</td>\n",
       "      <td>1645</td>\n",
       "      <td>912</td>\n",
       "    </tr>\n",
       "  </tbody>\n",
       "</table>\n",
       "</div>"
      ],
      "text/plain": [
       "     max           min            sum            \n",
       "      數量            數量             數量            \n",
       "商品    冰箱   筆電   電視  冰箱   筆電  電視    冰箱    筆電    電視\n",
       "業務員                                              \n",
       "張三安  285  284  242  53   60  32  3583  1633  2720\n",
       "李四友  272  294  287  84   44  65   791   987  1480\n",
       "王五信  297  294  191  37  115  46  2671  1645   912"
      ]
     },
     "execution_count": 45,
     "metadata": {},
     "output_type": "execute_result"
    }
   ],
   "source": [
    "pd.pivot_table(df1, index=['業務員'], columns=['商品'], \n",
    "\tvalues=['數量'], aggfunc=['max','min','sum'])"
   ]
  }
 ],
 "metadata": {
  "colab": {
   "collapsed_sections": [],
   "name": "資料預處理：資料清洗及圖片增量.ipynb",
   "provenance": [],
   "toc_visible": true
  },
  "kernelspec": {
   "display_name": "Python 3 (ipykernel)",
   "language": "python",
   "name": "python3"
  },
  "language_info": {
   "codemirror_mode": {
    "name": "ipython",
    "version": 3
   },
   "file_extension": ".py",
   "mimetype": "text/x-python",
   "name": "python",
   "nbconvert_exporter": "python",
   "pygments_lexer": "ipython3",
   "version": "3.9.12"
  }
 },
 "nbformat": 4,
 "nbformat_minor": 1
}
