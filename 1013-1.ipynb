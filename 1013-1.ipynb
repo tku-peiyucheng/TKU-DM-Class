{
 "cells": [
  {
   "cell_type": "code",
   "execution_count": 1,
   "id": "e38f56f1",
   "metadata": {
    "scrolled": true
   },
   "outputs": [
    {
     "name": "stdout",
     "output_type": "stream",
     "text": [
      "Requirement already satisfied: pandas in c:\\users\\peiyu\\anaconda3\\envs\\peiyu_base\\lib\\site-packages (1.5.0)\n",
      "Requirement already satisfied: python-dateutil>=2.8.1 in c:\\users\\peiyu\\anaconda3\\envs\\peiyu_base\\lib\\site-packages (from pandas) (2.8.2)\n",
      "Requirement already satisfied: pytz>=2020.1 in c:\\users\\peiyu\\anaconda3\\envs\\peiyu_base\\lib\\site-packages (from pandas) (2022.1)\n",
      "Requirement already satisfied: numpy>=1.20.3 in c:\\users\\peiyu\\anaconda3\\envs\\peiyu_base\\lib\\site-packages (from pandas) (1.23.3)\n",
      "Requirement already satisfied: six>=1.5 in c:\\users\\peiyu\\anaconda3\\envs\\peiyu_base\\lib\\site-packages (from python-dateutil>=2.8.1->pandas) (1.16.0)\n"
     ]
    }
   ],
   "source": [
    "!pip install pandas"
   ]
  },
  {
   "cell_type": "code",
   "execution_count": 2,
   "id": "7c25a075",
   "metadata": {},
   "outputs": [],
   "source": [
    "import pandas as pd"
   ]
  },
  {
   "cell_type": "code",
   "execution_count": 3,
   "id": "978cc896",
   "metadata": {},
   "outputs": [
    {
     "data": {
      "text/plain": [
       "<module 'pandas' from 'C:\\\\Users\\\\PeiYu\\\\anaconda3\\\\envs\\\\PeiYu_base\\\\lib\\\\site-packages\\\\pandas\\\\__init__.py'>"
      ]
     },
     "execution_count": 3,
     "metadata": {},
     "output_type": "execute_result"
    }
   ],
   "source": [
    "pd"
   ]
  },
  {
   "cell_type": "code",
   "execution_count": 4,
   "id": "83791b4f",
   "metadata": {},
   "outputs": [
    {
     "name": "stdout",
     "output_type": "stream",
     "text": [
      "0    1\n",
      "1    2\n",
      "2    3\n",
      "3    4\n",
      "4    5\n",
      "dtype: int64\n",
      "[1 2 3 4 5]\n",
      "RangeIndex(start=0, stop=5, step=1)\n"
     ]
    }
   ],
   "source": [
    "hipandas = pd.Series([1,2,3,4,5])\n",
    "print(hipandas)           #顯示Series\n",
    "print(hipandas.values)    #顯示值\n",
    "print(hipandas.index)     #顯示索引"
   ]
  },
  {
   "cell_type": "code",
   "execution_count": 5,
   "id": "4b8a55f6",
   "metadata": {},
   "outputs": [
    {
     "name": "stdout",
     "output_type": "stream",
     "text": [
      "0     6\n",
      "1     7\n",
      "2     8\n",
      "3     9\n",
      "4    10\n",
      "dtype: int64\n",
      "[ 6  7  8  9 10]\n",
      "RangeIndex(start=0, stop=5, step=1)\n"
     ]
    }
   ],
   "source": [
    "hipandas1 = pd.Series([6,7,8,9,10])\n",
    "print(hipandas1)           #顯示Series\n",
    "print(hipandas1.values)    #顯示值\n",
    "print(hipandas1.index)     #顯示索引"
   ]
  },
  {
   "cell_type": "code",
   "execution_count": 6,
   "id": "d4f2b487",
   "metadata": {},
   "outputs": [],
   "source": [
    "dict1 = {'Taipei': '台北', 'Taichung': '台中', 'Kaohsiung': '高雄'}"
   ]
  },
  {
   "cell_type": "code",
   "execution_count": 7,
   "id": "88a3772a",
   "metadata": {},
   "outputs": [
    {
     "data": {
      "text/plain": [
       "{'Taipei': '台北', 'Taichung': '台中', 'Kaohsiung': '高雄'}"
      ]
     },
     "execution_count": 7,
     "metadata": {},
     "output_type": "execute_result"
    }
   ],
   "source": [
    "dict1"
   ]
  },
  {
   "cell_type": "code",
   "execution_count": 8,
   "id": "bedf452a",
   "metadata": {},
   "outputs": [],
   "source": [
    "city = pd.Series(dict1)"
   ]
  },
  {
   "cell_type": "code",
   "execution_count": 9,
   "id": "cbf118b1",
   "metadata": {},
   "outputs": [
    {
     "data": {
      "text/plain": [
       "Taipei       台北\n",
       "Taichung     台中\n",
       "Kaohsiung    高雄\n",
       "dtype: object"
      ]
     },
     "execution_count": 9,
     "metadata": {},
     "output_type": "execute_result"
    }
   ],
   "source": [
    "city"
   ]
  },
  {
   "cell_type": "code",
   "execution_count": 10,
   "id": "53590ffd",
   "metadata": {},
   "outputs": [
    {
     "name": "stdout",
     "output_type": "stream",
     "text": [
      "Taipei       台北\n",
      "Taichung     台中\n",
      "Kaohsiung    高雄\n",
      "dtype: object\n"
     ]
    }
   ],
   "source": [
    "print(city)           #顯示Series"
   ]
  },
  {
   "cell_type": "code",
   "execution_count": 11,
   "id": "533a5aad",
   "metadata": {},
   "outputs": [
    {
     "name": "stdout",
     "output_type": "stream",
     "text": [
      "['台北' '台中' '高雄']\n"
     ]
    }
   ],
   "source": [
    "print(city.values)    #顯示值"
   ]
  },
  {
   "cell_type": "code",
   "execution_count": 12,
   "id": "a7a264c2",
   "metadata": {},
   "outputs": [
    {
     "name": "stdout",
     "output_type": "stream",
     "text": [
      "Index(['Taipei', 'Taichung', 'Kaohsiung'], dtype='object')\n"
     ]
    }
   ],
   "source": [
    "print(city.index)     #顯示索引"
   ]
  },
  {
   "cell_type": "code",
   "execution_count": 13,
   "id": "301056e3",
   "metadata": {},
   "outputs": [
    {
     "name": "stdout",
     "output_type": "stream",
     "text": [
      "台北\n"
     ]
    }
   ],
   "source": [
    "print(city['Taipei']) #用索引取值"
   ]
  },
  {
   "cell_type": "code",
   "execution_count": 14,
   "id": "0f5ceacf",
   "metadata": {},
   "outputs": [
    {
     "name": "stdout",
     "output_type": "stream",
     "text": [
      "台中\n"
     ]
    }
   ],
   "source": [
    "print(city['Taichung']) #用索引取值"
   ]
  },
  {
   "cell_type": "code",
   "execution_count": 15,
   "id": "6ea30139",
   "metadata": {},
   "outputs": [
    {
     "name": "stdout",
     "output_type": "stream",
     "text": [
      "高雄\n"
     ]
    }
   ],
   "source": [
    "print(city['Kaohsiung']) #用索引取值"
   ]
  },
  {
   "cell_type": "code",
   "execution_count": 16,
   "id": "1d641a93",
   "metadata": {},
   "outputs": [
    {
     "name": "stdout",
     "output_type": "stream",
     "text": [
      "Taichung     台中\n",
      "Kaohsiung    高雄\n",
      "dtype: object\n"
     ]
    }
   ],
   "source": [
    "print(city['Taichung':'Kaohsiung'])"
   ]
  },
  {
   "cell_type": "code",
   "execution_count": 18,
   "id": "81b3966e",
   "metadata": {},
   "outputs": [
    {
     "name": "stdout",
     "output_type": "stream",
     "text": [
      "Taipei       台北\n",
      "Taichung     台中\n",
      "Kaohsiung    高雄\n",
      "dtype: object\n"
     ]
    }
   ],
   "source": [
    "print(city['Taipei':'Kaohsiung'])"
   ]
  },
  {
   "cell_type": "code",
   "execution_count": 19,
   "id": "f3f190c2",
   "metadata": {},
   "outputs": [
    {
     "data": {
      "text/plain": [
       "1"
      ]
     },
     "execution_count": 19,
     "metadata": {},
     "output_type": "execute_result"
    }
   ],
   "source": [
    "hipandas[0]"
   ]
  },
  {
   "cell_type": "code",
   "execution_count": 20,
   "id": "93788523",
   "metadata": {},
   "outputs": [
    {
     "data": {
      "text/plain": [
       "2"
      ]
     },
     "execution_count": 20,
     "metadata": {},
     "output_type": "execute_result"
    }
   ],
   "source": [
    "hipandas[1]"
   ]
  },
  {
   "cell_type": "code",
   "execution_count": 21,
   "id": "3a879b5f",
   "metadata": {},
   "outputs": [
    {
     "data": {
      "text/plain": [
       "3"
      ]
     },
     "execution_count": 21,
     "metadata": {},
     "output_type": "execute_result"
    }
   ],
   "source": [
    "hipandas[2]"
   ]
  },
  {
   "cell_type": "code",
   "execution_count": 22,
   "id": "773e08b5",
   "metadata": {},
   "outputs": [],
   "source": [
    "se1 = pd.Series([1,2,3,4,5], index=['a','b','c','d','e'])"
   ]
  },
  {
   "cell_type": "code",
   "execution_count": 23,
   "id": "14c8e82e",
   "metadata": {},
   "outputs": [
    {
     "data": {
      "text/plain": [
       "a    1\n",
       "b    2\n",
       "c    3\n",
       "d    4\n",
       "e    5\n",
       "dtype: int64"
      ]
     },
     "execution_count": 23,
     "metadata": {},
     "output_type": "execute_result"
    }
   ],
   "source": [
    "se1"
   ]
  },
  {
   "cell_type": "code",
   "execution_count": 25,
   "id": "55263ef8",
   "metadata": {},
   "outputs": [
    {
     "data": {
      "text/plain": [
       "1"
      ]
     },
     "execution_count": 25,
     "metadata": {},
     "output_type": "execute_result"
    }
   ],
   "source": [
    "se1[0]"
   ]
  },
  {
   "cell_type": "code",
   "execution_count": 27,
   "id": "be1013b6",
   "metadata": {},
   "outputs": [
    {
     "data": {
      "text/plain": [
       "1"
      ]
     },
     "execution_count": 27,
     "metadata": {},
     "output_type": "execute_result"
    }
   ],
   "source": [
    "se1['a']\n"
   ]
  },
  {
   "cell_type": "code",
   "execution_count": 28,
   "id": "f1a870e1",
   "metadata": {},
   "outputs": [
    {
     "data": {
      "text/plain": [
       "2"
      ]
     },
     "execution_count": 28,
     "metadata": {},
     "output_type": "execute_result"
    }
   ],
   "source": [
    "se1['b']\n"
   ]
  },
  {
   "cell_type": "code",
   "execution_count": 29,
   "id": "42c302d6",
   "metadata": {},
   "outputs": [
    {
     "data": {
      "text/plain": [
       "3"
      ]
     },
     "execution_count": 29,
     "metadata": {},
     "output_type": "execute_result"
    }
   ],
   "source": [
    "se1['c']\n"
   ]
  },
  {
   "cell_type": "code",
   "execution_count": 30,
   "id": "515c922c",
   "metadata": {},
   "outputs": [
    {
     "data": {
      "text/plain": [
       "4"
      ]
     },
     "execution_count": 30,
     "metadata": {},
     "output_type": "execute_result"
    }
   ],
   "source": [
    "se1['d']\n"
   ]
  },
  {
   "cell_type": "code",
   "execution_count": 31,
   "id": "1d1ef302",
   "metadata": {},
   "outputs": [
    {
     "data": {
      "text/plain": [
       "5"
      ]
     },
     "execution_count": 31,
     "metadata": {},
     "output_type": "execute_result"
    }
   ],
   "source": [
    "se1['e']"
   ]
  },
  {
   "cell_type": "code",
   "execution_count": 32,
   "id": "4282c9a0",
   "metadata": {},
   "outputs": [],
   "source": [
    "df = pd.DataFrame([[65,92,78,83,70], \n",
    "                   [90,72,76,93,56], \n",
    "                   [81,85,91,89,77], \n",
    "                   [79,53,47,94,80]])"
   ]
  },
  {
   "cell_type": "code",
   "execution_count": 33,
   "id": "e7ff0e15",
   "metadata": {},
   "outputs": [
    {
     "data": {
      "text/html": [
       "<div>\n",
       "<style scoped>\n",
       "    .dataframe tbody tr th:only-of-type {\n",
       "        vertical-align: middle;\n",
       "    }\n",
       "\n",
       "    .dataframe tbody tr th {\n",
       "        vertical-align: top;\n",
       "    }\n",
       "\n",
       "    .dataframe thead th {\n",
       "        text-align: right;\n",
       "    }\n",
       "</style>\n",
       "<table border=\"1\" class=\"dataframe\">\n",
       "  <thead>\n",
       "    <tr style=\"text-align: right;\">\n",
       "      <th></th>\n",
       "      <th>0</th>\n",
       "      <th>1</th>\n",
       "      <th>2</th>\n",
       "      <th>3</th>\n",
       "      <th>4</th>\n",
       "    </tr>\n",
       "  </thead>\n",
       "  <tbody>\n",
       "    <tr>\n",
       "      <th>0</th>\n",
       "      <td>65</td>\n",
       "      <td>92</td>\n",
       "      <td>78</td>\n",
       "      <td>83</td>\n",
       "      <td>70</td>\n",
       "    </tr>\n",
       "    <tr>\n",
       "      <th>1</th>\n",
       "      <td>90</td>\n",
       "      <td>72</td>\n",
       "      <td>76</td>\n",
       "      <td>93</td>\n",
       "      <td>56</td>\n",
       "    </tr>\n",
       "    <tr>\n",
       "      <th>2</th>\n",
       "      <td>81</td>\n",
       "      <td>85</td>\n",
       "      <td>91</td>\n",
       "      <td>89</td>\n",
       "      <td>77</td>\n",
       "    </tr>\n",
       "    <tr>\n",
       "      <th>3</th>\n",
       "      <td>79</td>\n",
       "      <td>53</td>\n",
       "      <td>47</td>\n",
       "      <td>94</td>\n",
       "      <td>80</td>\n",
       "    </tr>\n",
       "  </tbody>\n",
       "</table>\n",
       "</div>"
      ],
      "text/plain": [
       "    0   1   2   3   4\n",
       "0  65  92  78  83  70\n",
       "1  90  72  76  93  56\n",
       "2  81  85  91  89  77\n",
       "3  79  53  47  94  80"
      ]
     },
     "execution_count": 33,
     "metadata": {},
     "output_type": "execute_result"
    }
   ],
   "source": [
    "df"
   ]
  },
  {
   "cell_type": "code",
   "execution_count": 34,
   "id": "c47a53c5",
   "metadata": {},
   "outputs": [
    {
     "data": {
      "text/html": [
       "<div>\n",
       "<style scoped>\n",
       "    .dataframe tbody tr th:only-of-type {\n",
       "        vertical-align: middle;\n",
       "    }\n",
       "\n",
       "    .dataframe tbody tr th {\n",
       "        vertical-align: top;\n",
       "    }\n",
       "\n",
       "    .dataframe thead th {\n",
       "        text-align: right;\n",
       "    }\n",
       "</style>\n",
       "<table border=\"1\" class=\"dataframe\">\n",
       "  <thead>\n",
       "    <tr style=\"text-align: right;\">\n",
       "      <th></th>\n",
       "      <th>國文</th>\n",
       "      <th>英文</th>\n",
       "      <th>數學</th>\n",
       "      <th>自然</th>\n",
       "      <th>社會</th>\n",
       "    </tr>\n",
       "  </thead>\n",
       "  <tbody>\n",
       "    <tr>\n",
       "      <th>王小明</th>\n",
       "      <td>65</td>\n",
       "      <td>92</td>\n",
       "      <td>78</td>\n",
       "      <td>83</td>\n",
       "      <td>70</td>\n",
       "    </tr>\n",
       "    <tr>\n",
       "      <th>李小美</th>\n",
       "      <td>90</td>\n",
       "      <td>72</td>\n",
       "      <td>76</td>\n",
       "      <td>93</td>\n",
       "      <td>56</td>\n",
       "    </tr>\n",
       "    <tr>\n",
       "      <th>陳大同</th>\n",
       "      <td>81</td>\n",
       "      <td>85</td>\n",
       "      <td>91</td>\n",
       "      <td>89</td>\n",
       "      <td>77</td>\n",
       "    </tr>\n",
       "    <tr>\n",
       "      <th>林小玉</th>\n",
       "      <td>79</td>\n",
       "      <td>53</td>\n",
       "      <td>47</td>\n",
       "      <td>94</td>\n",
       "      <td>80</td>\n",
       "    </tr>\n",
       "  </tbody>\n",
       "</table>\n",
       "</div>"
      ],
      "text/plain": [
       "     國文  英文  數學  自然  社會\n",
       "王小明  65  92  78  83  70\n",
       "李小美  90  72  76  93  56\n",
       "陳大同  81  85  91  89  77\n",
       "林小玉  79  53  47  94  80"
      ]
     },
     "execution_count": 34,
     "metadata": {},
     "output_type": "execute_result"
    }
   ],
   "source": [
    "df1 = pd.DataFrame([[65,92,78,83,70], \n",
    "                   [90,72,76,93,56], \n",
    "                   [81,85,91,89,77], \n",
    "                   [79,53,47,94,80]],\n",
    "                   index=['王小明','李小美','陳大同','林小玉'],\n",
    "                   columns=['國文','英文','數學','自然','社會'])\n",
    "df1"
   ]
  },
  {
   "cell_type": "code",
   "execution_count": 35,
   "id": "332fc2f0",
   "metadata": {},
   "outputs": [],
   "source": [
    "scores = {'國文':{'王小明':65,'李小美':90,'陳大同':81,'林小玉':79},\n",
    "          '英文':{'王小明':92,'李小美':72,'陳大同':85,'林小玉':53},\n",
    "          '數學':{'王小明':78,'李小美':76,'陳大同':91,'林小玉':47},\n",
    "          '自然':{'王小明':83,'李小美':93,'陳大同':89,'林小玉':94},\n",
    "          '社會':{'王小明':70,'李小美':56,'陳大同':94,'林小玉':80}}\n",
    "df2 = pd.DataFrame(scores)"
   ]
  },
  {
   "cell_type": "code",
   "execution_count": 36,
   "id": "09d7168f",
   "metadata": {},
   "outputs": [
    {
     "data": {
      "text/html": [
       "<div>\n",
       "<style scoped>\n",
       "    .dataframe tbody tr th:only-of-type {\n",
       "        vertical-align: middle;\n",
       "    }\n",
       "\n",
       "    .dataframe tbody tr th {\n",
       "        vertical-align: top;\n",
       "    }\n",
       "\n",
       "    .dataframe thead th {\n",
       "        text-align: right;\n",
       "    }\n",
       "</style>\n",
       "<table border=\"1\" class=\"dataframe\">\n",
       "  <thead>\n",
       "    <tr style=\"text-align: right;\">\n",
       "      <th></th>\n",
       "      <th>國文</th>\n",
       "      <th>英文</th>\n",
       "      <th>數學</th>\n",
       "      <th>自然</th>\n",
       "      <th>社會</th>\n",
       "    </tr>\n",
       "  </thead>\n",
       "  <tbody>\n",
       "    <tr>\n",
       "      <th>王小明</th>\n",
       "      <td>65</td>\n",
       "      <td>92</td>\n",
       "      <td>78</td>\n",
       "      <td>83</td>\n",
       "      <td>70</td>\n",
       "    </tr>\n",
       "    <tr>\n",
       "      <th>李小美</th>\n",
       "      <td>90</td>\n",
       "      <td>72</td>\n",
       "      <td>76</td>\n",
       "      <td>93</td>\n",
       "      <td>56</td>\n",
       "    </tr>\n",
       "    <tr>\n",
       "      <th>陳大同</th>\n",
       "      <td>81</td>\n",
       "      <td>85</td>\n",
       "      <td>91</td>\n",
       "      <td>89</td>\n",
       "      <td>94</td>\n",
       "    </tr>\n",
       "    <tr>\n",
       "      <th>林小玉</th>\n",
       "      <td>79</td>\n",
       "      <td>53</td>\n",
       "      <td>47</td>\n",
       "      <td>94</td>\n",
       "      <td>80</td>\n",
       "    </tr>\n",
       "  </tbody>\n",
       "</table>\n",
       "</div>"
      ],
      "text/plain": [
       "     國文  英文  數學  自然  社會\n",
       "王小明  65  92  78  83  70\n",
       "李小美  90  72  76  93  56\n",
       "陳大同  81  85  91  89  94\n",
       "林小玉  79  53  47  94  80"
      ]
     },
     "execution_count": 36,
     "metadata": {},
     "output_type": "execute_result"
    }
   ],
   "source": [
    "df2"
   ]
  },
  {
   "cell_type": "code",
   "execution_count": 37,
   "id": "31e1c7ff",
   "metadata": {},
   "outputs": [
    {
     "data": {
      "text/html": [
       "<div>\n",
       "<style scoped>\n",
       "    .dataframe tbody tr th:only-of-type {\n",
       "        vertical-align: middle;\n",
       "    }\n",
       "\n",
       "    .dataframe tbody tr th {\n",
       "        vertical-align: top;\n",
       "    }\n",
       "\n",
       "    .dataframe thead th {\n",
       "        text-align: right;\n",
       "    }\n",
       "</style>\n",
       "<table border=\"1\" class=\"dataframe\">\n",
       "  <thead>\n",
       "    <tr style=\"text-align: right;\">\n",
       "      <th></th>\n",
       "      <th>國文</th>\n",
       "      <th>英文</th>\n",
       "      <th>數學</th>\n",
       "      <th>自然</th>\n",
       "      <th>社會</th>\n",
       "    </tr>\n",
       "  </thead>\n",
       "  <tbody>\n",
       "    <tr>\n",
       "      <th>王小明</th>\n",
       "      <td>65</td>\n",
       "      <td>92</td>\n",
       "      <td>78</td>\n",
       "      <td>83</td>\n",
       "      <td>70</td>\n",
       "    </tr>\n",
       "    <tr>\n",
       "      <th>李小美</th>\n",
       "      <td>90</td>\n",
       "      <td>72</td>\n",
       "      <td>76</td>\n",
       "      <td>93</td>\n",
       "      <td>56</td>\n",
       "    </tr>\n",
       "    <tr>\n",
       "      <th>陳大同</th>\n",
       "      <td>81</td>\n",
       "      <td>85</td>\n",
       "      <td>91</td>\n",
       "      <td>89</td>\n",
       "      <td>94</td>\n",
       "    </tr>\n",
       "    <tr>\n",
       "      <th>林小玉</th>\n",
       "      <td>79</td>\n",
       "      <td>53</td>\n",
       "      <td>47</td>\n",
       "      <td>94</td>\n",
       "      <td>80</td>\n",
       "    </tr>\n",
       "  </tbody>\n",
       "</table>\n",
       "</div>"
      ],
      "text/plain": [
       "     國文  英文  數學  自然  社會\n",
       "王小明  65  92  78  83  70\n",
       "李小美  90  72  76  93  56\n",
       "陳大同  81  85  91  89  94\n",
       "林小玉  79  53  47  94  80"
      ]
     },
     "execution_count": 37,
     "metadata": {},
     "output_type": "execute_result"
    }
   ],
   "source": [
    "se1 = pd.Series({'王小明':65,'李小美':90,'陳大同':81,'林小玉':79})\n",
    "se2 = pd.Series({'王小明':92,'李小美':72,'陳大同':85,'林小玉':53})\n",
    "se3 = pd.Series({'王小明':78,'李小美':76,'陳大同':91,'林小玉':47})\n",
    "se4 = pd.Series({'王小明':83,'李小美':93,'陳大同':89,'林小玉':94})\n",
    "se5 = pd.Series({'王小明':70,'李小美':56,'陳大同':94,'林小玉':80})\n",
    "df3 = pd.DataFrame({ '國文':se1,'英文':se2,'數學':se3,\n",
    "                   '自然':se4,'社會':se5} )\n",
    "df3"
   ]
  },
  {
   "cell_type": "code",
   "execution_count": 38,
   "id": "770cef8a",
   "metadata": {},
   "outputs": [
    {
     "data": {
      "text/html": [
       "<div>\n",
       "<style scoped>\n",
       "    .dataframe tbody tr th:only-of-type {\n",
       "        vertical-align: middle;\n",
       "    }\n",
       "\n",
       "    .dataframe tbody tr th {\n",
       "        vertical-align: top;\n",
       "    }\n",
       "\n",
       "    .dataframe thead th {\n",
       "        text-align: right;\n",
       "    }\n",
       "</style>\n",
       "<table border=\"1\" class=\"dataframe\">\n",
       "  <thead>\n",
       "    <tr style=\"text-align: right;\">\n",
       "      <th></th>\n",
       "      <th>國文</th>\n",
       "      <th>英文</th>\n",
       "      <th>數學</th>\n",
       "      <th>自然</th>\n",
       "      <th>社會</th>\n",
       "    </tr>\n",
       "  </thead>\n",
       "  <tbody>\n",
       "    <tr>\n",
       "      <th>王小明</th>\n",
       "      <td>65</td>\n",
       "      <td>92</td>\n",
       "      <td>78</td>\n",
       "      <td>83</td>\n",
       "      <td>70</td>\n",
       "    </tr>\n",
       "    <tr>\n",
       "      <th>李小美</th>\n",
       "      <td>90</td>\n",
       "      <td>72</td>\n",
       "      <td>76</td>\n",
       "      <td>93</td>\n",
       "      <td>56</td>\n",
       "    </tr>\n",
       "    <tr>\n",
       "      <th>陳大同</th>\n",
       "      <td>81</td>\n",
       "      <td>85</td>\n",
       "      <td>91</td>\n",
       "      <td>89</td>\n",
       "      <td>94</td>\n",
       "    </tr>\n",
       "    <tr>\n",
       "      <th>林小玉</th>\n",
       "      <td>79</td>\n",
       "      <td>53</td>\n",
       "      <td>47</td>\n",
       "      <td>94</td>\n",
       "      <td>80</td>\n",
       "    </tr>\n",
       "  </tbody>\n",
       "</table>\n",
       "</div>"
      ],
      "text/plain": [
       "     國文  英文  數學  自然  社會\n",
       "王小明  65  92  78  83  70\n",
       "李小美  90  72  76  93  56\n",
       "陳大同  81  85  91  89  94\n",
       "林小玉  79  53  47  94  80"
      ]
     },
     "execution_count": 38,
     "metadata": {},
     "output_type": "execute_result"
    }
   ],
   "source": [
    "se1 = pd.Series({'王小明':65,'李小美':90,'陳大同':81,'林小玉':79})\n",
    "se2 = pd.Series({'王小明':92,'李小美':72,'陳大同':85,'林小玉':53})\n",
    "se3 = pd.Series({'王小明':78,'李小美':76,'陳大同':91,'林小玉':47})\n",
    "se4 = pd.Series({'王小明':83,'李小美':93,'陳大同':89,'林小玉':94})\n",
    "se5 = pd.Series({'王小明':70,'李小美':56,'陳大同':94,'林小玉':80})\n",
    "df4 = pd.concat([se1,se2,se3,se4,se5], axis=1)\n",
    "df4.columns=['國文','英文','數學','自然','社會']\n",
    "df4"
   ]
  },
  {
   "cell_type": "code",
   "execution_count": 39,
   "id": "ab3dea28",
   "metadata": {},
   "outputs": [
    {
     "data": {
      "text/html": [
       "<div>\n",
       "<style scoped>\n",
       "    .dataframe tbody tr th:only-of-type {\n",
       "        vertical-align: middle;\n",
       "    }\n",
       "\n",
       "    .dataframe tbody tr th {\n",
       "        vertical-align: top;\n",
       "    }\n",
       "\n",
       "    .dataframe thead th {\n",
       "        text-align: right;\n",
       "    }\n",
       "</style>\n",
       "<table border=\"1\" class=\"dataframe\">\n",
       "  <thead>\n",
       "    <tr style=\"text-align: right;\">\n",
       "      <th></th>\n",
       "      <th>國文</th>\n",
       "      <th>英文</th>\n",
       "      <th>數學</th>\n",
       "      <th>自然</th>\n",
       "      <th>社會</th>\n",
       "    </tr>\n",
       "  </thead>\n",
       "  <tbody>\n",
       "    <tr>\n",
       "      <th>李小美</th>\n",
       "      <td>90</td>\n",
       "      <td>72</td>\n",
       "      <td>76</td>\n",
       "      <td>93</td>\n",
       "      <td>56</td>\n",
       "    </tr>\n",
       "    <tr>\n",
       "      <th>陳大同</th>\n",
       "      <td>81</td>\n",
       "      <td>85</td>\n",
       "      <td>91</td>\n",
       "      <td>89</td>\n",
       "      <td>94</td>\n",
       "    </tr>\n",
       "  </tbody>\n",
       "</table>\n",
       "</div>"
      ],
      "text/plain": [
       "     國文  英文  數學  自然  社會\n",
       "李小美  90  72  76  93  56\n",
       "陳大同  81  85  91  89  94"
      ]
     },
     "execution_count": 39,
     "metadata": {},
     "output_type": "execute_result"
    }
   ],
   "source": [
    "df4[df4[\"國文\"] >= 80]"
   ]
  },
  {
   "cell_type": "code",
   "execution_count": 40,
   "id": "89a81271",
   "metadata": {},
   "outputs": [
    {
     "data": {
      "text/html": [
       "<div>\n",
       "<style scoped>\n",
       "    .dataframe tbody tr th:only-of-type {\n",
       "        vertical-align: middle;\n",
       "    }\n",
       "\n",
       "    .dataframe tbody tr th {\n",
       "        vertical-align: top;\n",
       "    }\n",
       "\n",
       "    .dataframe thead th {\n",
       "        text-align: right;\n",
       "    }\n",
       "</style>\n",
       "<table border=\"1\" class=\"dataframe\">\n",
       "  <thead>\n",
       "    <tr style=\"text-align: right;\">\n",
       "      <th></th>\n",
       "      <th>國文</th>\n",
       "      <th>英文</th>\n",
       "      <th>數學</th>\n",
       "      <th>自然</th>\n",
       "      <th>社會</th>\n",
       "    </tr>\n",
       "  </thead>\n",
       "  <tbody>\n",
       "    <tr>\n",
       "      <th>陳大同</th>\n",
       "      <td>81</td>\n",
       "      <td>85</td>\n",
       "      <td>91</td>\n",
       "      <td>89</td>\n",
       "      <td>94</td>\n",
       "    </tr>\n",
       "  </tbody>\n",
       "</table>\n",
       "</div>"
      ],
      "text/plain": [
       "     國文  英文  數學  自然  社會\n",
       "陳大同  81  85  91  89  94"
      ]
     },
     "execution_count": 40,
     "metadata": {},
     "output_type": "execute_result"
    }
   ],
   "source": [
    "df4[df4[\"數學\"] >= 80]"
   ]
  },
  {
   "cell_type": "code",
   "execution_count": 41,
   "id": "86f645e8",
   "metadata": {},
   "outputs": [
    {
     "data": {
      "text/html": [
       "<div>\n",
       "<style scoped>\n",
       "    .dataframe tbody tr th:only-of-type {\n",
       "        vertical-align: middle;\n",
       "    }\n",
       "\n",
       "    .dataframe tbody tr th {\n",
       "        vertical-align: top;\n",
       "    }\n",
       "\n",
       "    .dataframe thead th {\n",
       "        text-align: right;\n",
       "    }\n",
       "</style>\n",
       "<table border=\"1\" class=\"dataframe\">\n",
       "  <thead>\n",
       "    <tr style=\"text-align: right;\">\n",
       "      <th></th>\n",
       "      <th>國文</th>\n",
       "      <th>英文</th>\n",
       "      <th>數學</th>\n",
       "      <th>自然</th>\n",
       "      <th>社會</th>\n",
       "    </tr>\n",
       "  </thead>\n",
       "  <tbody>\n",
       "    <tr>\n",
       "      <th>王小明</th>\n",
       "      <td>65</td>\n",
       "      <td>92</td>\n",
       "      <td>78</td>\n",
       "      <td>83</td>\n",
       "      <td>70</td>\n",
       "    </tr>\n",
       "  </tbody>\n",
       "</table>\n",
       "</div>"
      ],
      "text/plain": [
       "     國文  英文  數學  自然  社會\n",
       "王小明  65  92  78  83  70"
      ]
     },
     "execution_count": 41,
     "metadata": {},
     "output_type": "execute_result"
    }
   ],
   "source": [
    "df4[df4[\"英文\"] >= 90]"
   ]
  },
  {
   "cell_type": "code",
   "execution_count": 42,
   "id": "b45146e8",
   "metadata": {},
   "outputs": [
    {
     "data": {
      "text/plain": [
       "80"
      ]
     },
     "execution_count": 42,
     "metadata": {},
     "output_type": "execute_result"
    }
   ],
   "source": [
    "df4.loc[\"林小玉\", \"社會\"]"
   ]
  },
  {
   "cell_type": "code",
   "execution_count": 43,
   "id": "badcd671",
   "metadata": {},
   "outputs": [
    {
     "data": {
      "text/plain": [
       "國文    65\n",
       "社會    70\n",
       "Name: 王小明, dtype: int64"
      ]
     },
     "execution_count": 43,
     "metadata": {},
     "output_type": "execute_result"
    }
   ],
   "source": [
    "df4.loc[\"王小明\", [\"國文\",\"社會\"]]"
   ]
  },
  {
   "cell_type": "code",
   "execution_count": 44,
   "id": "b9e01774",
   "metadata": {},
   "outputs": [
    {
     "data": {
      "text/html": [
       "<div>\n",
       "<style scoped>\n",
       "    .dataframe tbody tr th:only-of-type {\n",
       "        vertical-align: middle;\n",
       "    }\n",
       "\n",
       "    .dataframe tbody tr th {\n",
       "        vertical-align: top;\n",
       "    }\n",
       "\n",
       "    .dataframe thead th {\n",
       "        text-align: right;\n",
       "    }\n",
       "</style>\n",
       "<table border=\"1\" class=\"dataframe\">\n",
       "  <thead>\n",
       "    <tr style=\"text-align: right;\">\n",
       "      <th></th>\n",
       "      <th>數學</th>\n",
       "      <th>自然</th>\n",
       "    </tr>\n",
       "  </thead>\n",
       "  <tbody>\n",
       "    <tr>\n",
       "      <th>王小明</th>\n",
       "      <td>78</td>\n",
       "      <td>83</td>\n",
       "    </tr>\n",
       "    <tr>\n",
       "      <th>李小美</th>\n",
       "      <td>76</td>\n",
       "      <td>93</td>\n",
       "    </tr>\n",
       "  </tbody>\n",
       "</table>\n",
       "</div>"
      ],
      "text/plain": [
       "     數學  自然\n",
       "王小明  78  83\n",
       "李小美  76  93"
      ]
     },
     "execution_count": 44,
     "metadata": {},
     "output_type": "execute_result"
    }
   ],
   "source": [
    "df4.loc[[\"王小明\", \"李小美\"], [\"數學\", \"自然\"]]"
   ]
  },
  {
   "cell_type": "code",
   "execution_count": 45,
   "id": "ee74ff7d",
   "metadata": {},
   "outputs": [
    {
     "data": {
      "text/html": [
       "<div>\n",
       "<style scoped>\n",
       "    .dataframe tbody tr th:only-of-type {\n",
       "        vertical-align: middle;\n",
       "    }\n",
       "\n",
       "    .dataframe tbody tr th {\n",
       "        vertical-align: top;\n",
       "    }\n",
       "\n",
       "    .dataframe thead th {\n",
       "        text-align: right;\n",
       "    }\n",
       "</style>\n",
       "<table border=\"1\" class=\"dataframe\">\n",
       "  <thead>\n",
       "    <tr style=\"text-align: right;\">\n",
       "      <th></th>\n",
       "      <th>數學</th>\n",
       "      <th>自然</th>\n",
       "      <th>社會</th>\n",
       "    </tr>\n",
       "  </thead>\n",
       "  <tbody>\n",
       "    <tr>\n",
       "      <th>王小明</th>\n",
       "      <td>78</td>\n",
       "      <td>83</td>\n",
       "      <td>70</td>\n",
       "    </tr>\n",
       "    <tr>\n",
       "      <th>李小美</th>\n",
       "      <td>76</td>\n",
       "      <td>93</td>\n",
       "      <td>56</td>\n",
       "    </tr>\n",
       "    <tr>\n",
       "      <th>陳大同</th>\n",
       "      <td>91</td>\n",
       "      <td>89</td>\n",
       "      <td>94</td>\n",
       "    </tr>\n",
       "  </tbody>\n",
       "</table>\n",
       "</div>"
      ],
      "text/plain": [
       "     數學  自然  社會\n",
       "王小明  78  83  70\n",
       "李小美  76  93  56\n",
       "陳大同  91  89  94"
      ]
     },
     "execution_count": 45,
     "metadata": {},
     "output_type": "execute_result"
    }
   ],
   "source": [
    "df4.loc[\"王小明\":\"陳大同\", \"數學\":\"社會\"]"
   ]
  },
  {
   "cell_type": "code",
   "execution_count": 46,
   "id": "b0c531a5",
   "metadata": {},
   "outputs": [
    {
     "data": {
      "text/plain": [
       "國文    81\n",
       "英文    85\n",
       "數學    91\n",
       "自然    89\n",
       "社會    94\n",
       "Name: 陳大同, dtype: int64"
      ]
     },
     "execution_count": 46,
     "metadata": {},
     "output_type": "execute_result"
    }
   ],
   "source": [
    "df4.loc[\"陳大同\", :]"
   ]
  },
  {
   "cell_type": "code",
   "execution_count": 47,
   "id": "51108831",
   "metadata": {},
   "outputs": [
    {
     "data": {
      "text/html": [
       "<div>\n",
       "<style scoped>\n",
       "    .dataframe tbody tr th:only-of-type {\n",
       "        vertical-align: middle;\n",
       "    }\n",
       "\n",
       "    .dataframe tbody tr th {\n",
       "        vertical-align: top;\n",
       "    }\n",
       "\n",
       "    .dataframe thead th {\n",
       "        text-align: right;\n",
       "    }\n",
       "</style>\n",
       "<table border=\"1\" class=\"dataframe\">\n",
       "  <thead>\n",
       "    <tr style=\"text-align: right;\">\n",
       "      <th></th>\n",
       "      <th>數學</th>\n",
       "      <th>自然</th>\n",
       "      <th>社會</th>\n",
       "    </tr>\n",
       "  </thead>\n",
       "  <tbody>\n",
       "    <tr>\n",
       "      <th>王小明</th>\n",
       "      <td>78</td>\n",
       "      <td>83</td>\n",
       "      <td>70</td>\n",
       "    </tr>\n",
       "    <tr>\n",
       "      <th>李小美</th>\n",
       "      <td>76</td>\n",
       "      <td>93</td>\n",
       "      <td>56</td>\n",
       "    </tr>\n",
       "  </tbody>\n",
       "</table>\n",
       "</div>"
      ],
      "text/plain": [
       "     數學  自然  社會\n",
       "王小明  78  83  70\n",
       "李小美  76  93  56"
      ]
     },
     "execution_count": 47,
     "metadata": {},
     "output_type": "execute_result"
    }
   ],
   "source": [
    "df4.loc[:\"李小美\", \"數學\":\"社會\"]"
   ]
  },
  {
   "cell_type": "code",
   "execution_count": 48,
   "id": "e9895a5e",
   "metadata": {},
   "outputs": [
    {
     "data": {
      "text/html": [
       "<div>\n",
       "<style scoped>\n",
       "    .dataframe tbody tr th:only-of-type {\n",
       "        vertical-align: middle;\n",
       "    }\n",
       "\n",
       "    .dataframe tbody tr th {\n",
       "        vertical-align: top;\n",
       "    }\n",
       "\n",
       "    .dataframe thead th {\n",
       "        text-align: right;\n",
       "    }\n",
       "</style>\n",
       "<table border=\"1\" class=\"dataframe\">\n",
       "  <thead>\n",
       "    <tr style=\"text-align: right;\">\n",
       "      <th></th>\n",
       "      <th>數學</th>\n",
       "      <th>自然</th>\n",
       "      <th>社會</th>\n",
       "    </tr>\n",
       "  </thead>\n",
       "  <tbody>\n",
       "    <tr>\n",
       "      <th>李小美</th>\n",
       "      <td>76</td>\n",
       "      <td>93</td>\n",
       "      <td>56</td>\n",
       "    </tr>\n",
       "    <tr>\n",
       "      <th>陳大同</th>\n",
       "      <td>91</td>\n",
       "      <td>89</td>\n",
       "      <td>94</td>\n",
       "    </tr>\n",
       "    <tr>\n",
       "      <th>林小玉</th>\n",
       "      <td>47</td>\n",
       "      <td>94</td>\n",
       "      <td>80</td>\n",
       "    </tr>\n",
       "  </tbody>\n",
       "</table>\n",
       "</div>"
      ],
      "text/plain": [
       "     數學  自然  社會\n",
       "李小美  76  93  56\n",
       "陳大同  91  89  94\n",
       "林小玉  47  94  80"
      ]
     },
     "execution_count": 48,
     "metadata": {},
     "output_type": "execute_result"
    }
   ],
   "source": [
    "df4.loc[\"李小美\":, \"數學\":\"社會\"]"
   ]
  },
  {
   "cell_type": "code",
   "execution_count": 49,
   "id": "77f595a1",
   "metadata": {},
   "outputs": [
    {
     "data": {
      "text/plain": [
       "80"
      ]
     },
     "execution_count": 49,
     "metadata": {},
     "output_type": "execute_result"
    }
   ],
   "source": [
    "df4.loc[\"林小玉\", \"社會\"]"
   ]
  },
  {
   "cell_type": "code",
   "execution_count": 50,
   "id": "63cc5ee6",
   "metadata": {},
   "outputs": [
    {
     "data": {
      "text/plain": [
       "國文    65\n",
       "社會    70\n",
       "Name: 王小明, dtype: int64"
      ]
     },
     "execution_count": 50,
     "metadata": {},
     "output_type": "execute_result"
    }
   ],
   "source": [
    "df4.loc[\"王小明\", [\"國文\",\"社會\"]]"
   ]
  },
  {
   "cell_type": "code",
   "execution_count": 51,
   "id": "0ea8e061",
   "metadata": {},
   "outputs": [
    {
     "data": {
      "text/html": [
       "<div>\n",
       "<style scoped>\n",
       "    .dataframe tbody tr th:only-of-type {\n",
       "        vertical-align: middle;\n",
       "    }\n",
       "\n",
       "    .dataframe tbody tr th {\n",
       "        vertical-align: top;\n",
       "    }\n",
       "\n",
       "    .dataframe thead th {\n",
       "        text-align: right;\n",
       "    }\n",
       "</style>\n",
       "<table border=\"1\" class=\"dataframe\">\n",
       "  <thead>\n",
       "    <tr style=\"text-align: right;\">\n",
       "      <th></th>\n",
       "      <th>數學</th>\n",
       "      <th>自然</th>\n",
       "    </tr>\n",
       "  </thead>\n",
       "  <tbody>\n",
       "    <tr>\n",
       "      <th>王小明</th>\n",
       "      <td>78</td>\n",
       "      <td>83</td>\n",
       "    </tr>\n",
       "    <tr>\n",
       "      <th>李小美</th>\n",
       "      <td>76</td>\n",
       "      <td>93</td>\n",
       "    </tr>\n",
       "  </tbody>\n",
       "</table>\n",
       "</div>"
      ],
      "text/plain": [
       "     數學  自然\n",
       "王小明  78  83\n",
       "李小美  76  93"
      ]
     },
     "execution_count": 51,
     "metadata": {},
     "output_type": "execute_result"
    }
   ],
   "source": [
    "df4.loc[[\"王小明\", \"李小美\"], [\"數學\", \"自然\"]]"
   ]
  },
  {
   "cell_type": "code",
   "execution_count": 52,
   "id": "f9b63241",
   "metadata": {},
   "outputs": [
    {
     "data": {
      "text/html": [
       "<div>\n",
       "<style scoped>\n",
       "    .dataframe tbody tr th:only-of-type {\n",
       "        vertical-align: middle;\n",
       "    }\n",
       "\n",
       "    .dataframe tbody tr th {\n",
       "        vertical-align: top;\n",
       "    }\n",
       "\n",
       "    .dataframe thead th {\n",
       "        text-align: right;\n",
       "    }\n",
       "</style>\n",
       "<table border=\"1\" class=\"dataframe\">\n",
       "  <thead>\n",
       "    <tr style=\"text-align: right;\">\n",
       "      <th></th>\n",
       "      <th>數學</th>\n",
       "      <th>自然</th>\n",
       "      <th>社會</th>\n",
       "    </tr>\n",
       "  </thead>\n",
       "  <tbody>\n",
       "    <tr>\n",
       "      <th>王小明</th>\n",
       "      <td>78</td>\n",
       "      <td>83</td>\n",
       "      <td>70</td>\n",
       "    </tr>\n",
       "    <tr>\n",
       "      <th>李小美</th>\n",
       "      <td>76</td>\n",
       "      <td>93</td>\n",
       "      <td>56</td>\n",
       "    </tr>\n",
       "    <tr>\n",
       "      <th>陳大同</th>\n",
       "      <td>91</td>\n",
       "      <td>89</td>\n",
       "      <td>94</td>\n",
       "    </tr>\n",
       "  </tbody>\n",
       "</table>\n",
       "</div>"
      ],
      "text/plain": [
       "     數學  自然  社會\n",
       "王小明  78  83  70\n",
       "李小美  76  93  56\n",
       "陳大同  91  89  94"
      ]
     },
     "execution_count": 52,
     "metadata": {},
     "output_type": "execute_result"
    }
   ],
   "source": [
    "df4.loc[\"王小明\":\"陳大同\", \"數學\":\"社會\"]"
   ]
  },
  {
   "cell_type": "code",
   "execution_count": 53,
   "id": "b9dce7bc",
   "metadata": {},
   "outputs": [
    {
     "data": {
      "text/plain": [
       "國文    81\n",
       "英文    85\n",
       "數學    91\n",
       "自然    89\n",
       "社會    94\n",
       "Name: 陳大同, dtype: int64"
      ]
     },
     "execution_count": 53,
     "metadata": {},
     "output_type": "execute_result"
    }
   ],
   "source": [
    "df4.loc[\"陳大同\", :]"
   ]
  },
  {
   "cell_type": "code",
   "execution_count": 54,
   "id": "95eba754",
   "metadata": {},
   "outputs": [
    {
     "data": {
      "text/html": [
       "<div>\n",
       "<style scoped>\n",
       "    .dataframe tbody tr th:only-of-type {\n",
       "        vertical-align: middle;\n",
       "    }\n",
       "\n",
       "    .dataframe tbody tr th {\n",
       "        vertical-align: top;\n",
       "    }\n",
       "\n",
       "    .dataframe thead th {\n",
       "        text-align: right;\n",
       "    }\n",
       "</style>\n",
       "<table border=\"1\" class=\"dataframe\">\n",
       "  <thead>\n",
       "    <tr style=\"text-align: right;\">\n",
       "      <th></th>\n",
       "      <th>數學</th>\n",
       "      <th>自然</th>\n",
       "      <th>社會</th>\n",
       "    </tr>\n",
       "  </thead>\n",
       "  <tbody>\n",
       "    <tr>\n",
       "      <th>李小美</th>\n",
       "      <td>76</td>\n",
       "      <td>93</td>\n",
       "      <td>56</td>\n",
       "    </tr>\n",
       "    <tr>\n",
       "      <th>陳大同</th>\n",
       "      <td>91</td>\n",
       "      <td>89</td>\n",
       "      <td>94</td>\n",
       "    </tr>\n",
       "    <tr>\n",
       "      <th>林小玉</th>\n",
       "      <td>47</td>\n",
       "      <td>94</td>\n",
       "      <td>80</td>\n",
       "    </tr>\n",
       "  </tbody>\n",
       "</table>\n",
       "</div>"
      ],
      "text/plain": [
       "     數學  自然  社會\n",
       "李小美  76  93  56\n",
       "陳大同  91  89  94\n",
       "林小玉  47  94  80"
      ]
     },
     "execution_count": 54,
     "metadata": {},
     "output_type": "execute_result"
    }
   ],
   "source": [
    "df4.loc[\"李小美\":, \"數學\":\"社會\"]"
   ]
  },
  {
   "cell_type": "code",
   "execution_count": null,
   "id": "be7d87f0",
   "metadata": {},
   "outputs": [],
   "source": []
  }
 ],
 "metadata": {
  "kernelspec": {
   "display_name": "Python 3 (ipykernel)",
   "language": "python",
   "name": "python3"
  },
  "language_info": {
   "codemirror_mode": {
    "name": "ipython",
    "version": 3
   },
   "file_extension": ".py",
   "mimetype": "text/x-python",
   "name": "python",
   "nbconvert_exporter": "python",
   "pygments_lexer": "ipython3",
   "version": "3.9.12"
  }
 },
 "nbformat": 4,
 "nbformat_minor": 5
}
